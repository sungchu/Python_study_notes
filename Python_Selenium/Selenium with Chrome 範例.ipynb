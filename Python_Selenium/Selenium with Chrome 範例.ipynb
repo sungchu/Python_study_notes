{
 "cells": [
  {
   "cell_type": "code",
   "execution_count": 2,
   "metadata": {},
   "outputs": [],
   "source": [
    "from selenium import webdriver\n",
    "\n",
    "chrome_driver_path = \"C:/Users/songz/Downloads/chromedriver.exe\"\n",
    "driver = webdriver.Chrome(executable_path=chrome_driver_path)\n",
    "driver.get(\"https://www.imdb.com\")"
   ]
  },
  {
   "cell_type": "code",
   "execution_count": 3,
   "metadata": {},
   "outputs": [],
   "source": [
    "navbar_query = driver.find_element_by_css_selector(\"#navbar-query\")\n",
    "navbar_query.send_keys(\"Avengers: Endgame\")"
   ]
  },
  {
   "cell_type": "code",
   "execution_count": 4,
   "metadata": {},
   "outputs": [],
   "source": [
    "submit_button = driver.find_element_by_css_selector(\"#navbar-submit-button .navbarSprite\")\n",
    "submit_button.click()"
   ]
  },
  {
   "cell_type": "code",
   "execution_count": 5,
   "metadata": {},
   "outputs": [],
   "source": [
    "movie_category = driver.find_element_by_css_selector(\"#sidebar li:nth-child(1) a\")\n",
    "movie_category.click()"
   ]
  },
  {
   "cell_type": "code",
   "execution_count": 6,
   "metadata": {},
   "outputs": [],
   "source": [
    "search_result = driver.find_elements_by_css_selector(\".result_text a\")[0]\n",
    "search_result.click()"
   ]
  },
  {
   "cell_type": "code",
   "execution_count": 7,
   "metadata": {},
   "outputs": [],
   "source": [
    "import requests\n",
    "from bs4 import BeautifulSoup\n",
    "\n",
    "def get_movie_spec(movie_url):\n",
    "    r = requests.get(movie_url)\n",
    "    html_doc = r.text\n",
    "    soup = BeautifulSoup(html_doc)\n",
    "    movie_rating = [float(i.text) for i in soup.select(\"strong span\")][0]\n",
    "    movie_time = [i.text.strip() for i in soup.select(\"time\")]\n",
    "    movie_genre = [i.text for i in soup.select(\".subtext a\")]\n",
    "    movie_release_date = movie_genre.pop()\n",
    "    movie_release_date = movie_release_date.strip()\n",
    "    movie_poster_link = [\"https://www.imdb.com\" + i.get(\"src\") for i in soup.select(\".poster img\")][0]\n",
    "    movie_spec = {\n",
    "        \"movieRating\": movie_rating,\n",
    "        \"movieTime\": movie_time,\n",
    "        \"movieGenre\": movie_genre,\n",
    "        \"movieReleaseDate\": movie_release_date,\n",
    "        \"moviePosterLink\": movie_poster_link\n",
    "    }\n",
    "    return movie_spec"
   ]
  },
  {
   "cell_type": "code",
   "execution_count": 8,
   "metadata": {},
   "outputs": [
    {
     "data": {
      "text/plain": [
       "{'movieRating': 8.9,\n",
       " 'movieTime': ['3h 1min', '181 min'],\n",
       " 'movieGenre': ['Action', 'Adventure', 'Fantasy'],\n",
       " 'movieReleaseDate': '24 April 2019 (Taiwan)',\n",
       " 'moviePosterLink': 'https://www.imdb.comhttps://m.media-amazon.com/images/M/MV5BMTc5MDE2ODcwNV5BMl5BanBnXkFtZTgwMzI2NzQ2NzM@._V1_UX182_CR0,0,182,268_AL_.jpg'}"
      ]
     },
     "execution_count": 8,
     "metadata": {},
     "output_type": "execute_result"
    }
   ],
   "source": [
    "movie_url = driver.current_url\n",
    "driver.close()\n",
    "get_movie_spec(movie_url)"
   ]
  }
 ],
 "metadata": {
  "kernelspec": {
   "display_name": "selenium",
   "language": "python",
   "name": "selenium"
  },
  "language_info": {
   "codemirror_mode": {
    "name": "ipython",
    "version": 3
   },
   "file_extension": ".py",
   "mimetype": "text/x-python",
   "name": "python",
   "nbconvert_exporter": "python",
   "pygments_lexer": "ipython3",
   "version": "3.7.3"
  }
 },
 "nbformat": 4,
 "nbformat_minor": 2
}
