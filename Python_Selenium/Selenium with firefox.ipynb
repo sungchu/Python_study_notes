{
 "cells": [
  {
   "cell_type": "code",
   "execution_count": 3,
   "metadata": {},
   "outputs": [],
   "source": [
    "from selenium import webdriver\n",
    "firefox_driver_path = \"C:/Users/songz/Downloads/geckodriver.exe\"\n",
    "driver = webdriver.Firefox(executable_path = firefox_driver_path)"
   ]
  },
  {
   "cell_type": "code",
   "execution_count": 4,
   "metadata": {},
   "outputs": [],
   "source": [
    "tse_100_url = \"https://tw.stock.yahoo.com/d/i/rank.php?t=pri&e=tse&n=100\"\n",
    "driver.get(tse_100_url)"
   ]
  },
  {
   "cell_type": "markdown",
   "metadata": {},
   "source": [
    "用[XPath Helper](https://chrome.google.com/webstore/detail/xpath-helper/hgimnogjllphhhkhlmebbmlgjoejdpjl?hl=zh-TW)就可以動態的看XPath了 "
   ]
  },
  {
   "cell_type": "code",
   "execution_count": 5,
   "metadata": {},
   "outputs": [
    {
     "name": "stdout",
     "output_type": "stream",
     "text": [
      "['3008 大立光', '6409 旭隼', '6415 矽力-KY', '5269 祥碩', '2207 和泰車', '3406 玉晶光', '3563 牧德', '1590 亞德客-KY', '1476 儒鴻', '6669 緯穎', '2059 川湖', '2454 聯發科', '2327 國巨', '2912 統一超', '2049 上銀', '2231 為升', '8454 富邦媒', '6414 樺漢', '2330 台積電', '2227 裕日車', '8341 日友', '2474 可成', '4137 麗豐-KY', '2395 研華', '9910 豐泰', '8464 億豐', '2357 華碩', '9921 巨大', '6452 康友-KY', '3443 創意', '3533 嘉澤', '1707 葡萄王', '2379 瑞昱', '1477 聚陽', '3034 聯詠', '3665 貿聯-KY', '8462 柏文', '2723 美食-KY', '2492 華新科', '8070 長華', '6666 羅麗芬-KY', '2439 美律', '6230 超眾', '9914 美利達', '8422 可寧衛', '1256 鮮活果汁-KY', '3130 一零四', '6670 復盛應用', '1537 廣隆', '6504 南六', '2308 台達電', '2360 致茂', '2707 晶華', '4438 廣越', '4766 南寶', '1558 伸興', '5288 豐祥-KY', '4912 聯德控股-KY', '4536 拓凱', '4763 材料-KY', '8482 商億-KY', '6552 易華電', '3413 京鼎', '2404 漢唐', '2345 智邦', '4943 康控-KY', '1723 中碳', '8016 矽創', '5871 中租-KY', '8480 泰昇-KY', '6456 GIS-KY', '6533 晶心科', '2239 英利-KY', '6451 訊芯-KY', '3376 新日興', '3532 台勝科', '9941 裕融', '3653 健策', '4551 智伸科', '6505 台塑化', '6271 同欣電', '3045 台灣大', '8499 鼎炫-KY', '3454 晶睿', '1536 和大', '6213 聯茂', '1326 台化', '3023 信邦', '1301 台塑', '4958 臻鼎-KY', '2412 中華電', '8114 振樺電', '3026 禾伸堂', '2939 凱羿-KY', '3504 揚明光', '1232 大統益', '4190 佐登-KY', '6176 瑞儀', '2383 台光電', '6581 鋼聯']\n",
      "[4675.0, 608.0, 552.0, 543.0, 465.0, 432.5, 427.0, 419.0, 415.0, 358.0, 323.5, 309.0, 300.0, 299.0, 291.5, 289.0, 272.5, 271.0, 265.0, 264.5, 262.5, 259.5, 258.0, 248.5, 247.0, 241.5, 240.0, 230.5, 225.0, 224.0, 223.5, 219.0, 219.0, 207.5, 207.0, 206.5, 201.0, 197.0, 187.5, 184.5, 183.5, 183.5, 181.0, 179.0, 171.0, 170.5, 170.0, 168.5, 165.5, 164.5, 160.5, 159.0, 157.5, 155.5, 155.0, 152.0, 151.0, 146.5, 145.5, 144.5, 142.0, 142.0, 141.5, 140.5, 136.5, 136.5, 136.0, 135.5, 133.0, 128.5, 122.5, 121.5, 121.0, 120.5, 120.0, 119.0, 118.5, 118.0, 117.0, 115.5, 114.5, 114.5, 113.5, 113.5, 113.0, 112.0, 112.0, 111.0, 111.0, 111.0, 111.0, 108.5, 106.5, 106.5, 106.0, 105.5, 105.0, 104.0, 100.5, 100.0]\n",
      "[448, 35, 511, 482, 518, 13821, 411, 1256, 3818, 3126, 189, 18532, 9084, 2154, 2412, 316, 51, 367, 29739, 102, 132, 4733, 560, 347, 1010, 1007, 676, 980, 481, 5140, 881, 990, 9507, 2338, 5293, 1511, 218, 547, 9980, 776, 108, 3840, 4063, 2111, 92, 10, 2, 657, 262, 19, 7652, 3667, 305, 82, 329, 152, 120, 62, 198, 240, 95, 12235, 287, 2477, 5025, 1278, 67, 3726, 1249, 8, 3935, 1630, 64, 1764, 1704, 493, 277, 2258, 108, 1063, 1492, 3809, 157, 136, 604, 9417, 4837, 696, 7665, 9837, 5919, 77, 2955, 23, 9931, 26, 445, 3354, 5746, 9]\n"
     ]
    }
   ],
   "source": [
    "elem = driver.find_elements_by_xpath(\"//td[@class='name']/a\")\n",
    "ticker_company_names = [i.text for i in elem]\n",
    "elem = driver.find_elements_by_xpath(\"//table[2]/tbody/tr/td[3]\")\n",
    "prices = [float(i.text) for i in elem]\n",
    "elem = driver.find_elements_by_xpath(\"//table[2]/tbody/tr/td[9]\")\n",
    "volumes = [int(i.text.replace(\",\", \"\")) for i in elem]\n",
    "driver.close()\n",
    "print(ticker_company_names)\n",
    "print(prices)\n",
    "print(volumes)"
   ]
  },
  {
   "cell_type": "code",
   "execution_count": null,
   "metadata": {},
   "outputs": [],
   "source": []
  },
  {
   "cell_type": "code",
   "execution_count": null,
   "metadata": {},
   "outputs": [],
   "source": []
  },
  {
   "cell_type": "code",
   "execution_count": null,
   "metadata": {},
   "outputs": [],
   "source": []
  }
 ],
 "metadata": {
  "kernelspec": {
   "display_name": "selenium",
   "language": "python",
   "name": "selenium"
  },
  "language_info": {
   "codemirror_mode": {
    "name": "ipython",
    "version": 3
   },
   "file_extension": ".py",
   "mimetype": "text/x-python",
   "name": "python",
   "nbconvert_exporter": "python",
   "pygments_lexer": "ipython3",
   "version": "3.7.3"
  }
 },
 "nbformat": 4,
 "nbformat_minor": 2
}
