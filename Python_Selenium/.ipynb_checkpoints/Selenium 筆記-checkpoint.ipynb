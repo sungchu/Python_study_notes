{
 "cells": [
  {
   "cell_type": "markdown",
   "metadata": {},
   "source": [
    "# Selenium\n",
    "\n",
    "- 用來操控瀏覽器的軟體\n",
    "- 主要用途是網站測試\n",
    "- 次要用途是可以應用於網站爬蟲\n",
    "- 因為是模擬操作瀏覽器，速度上會比靜態網頁慢\n",
    "\n",
    "前置設定\n",
    "\n",
    "- 更新 Chrome 瀏覽器\n",
    "- 下載 [Chrome Driver](https://chromedriver.storage.googleapis.com/index.html?path=74.0.3729.6/)\n",
    "\n",
    "- 建立一個虛擬環境\n",
    "\n",
    "```bash\n",
    "conda create -n selenium python=3\n",
    "```\n",
    "\n",
    "- 啟動虛擬環境\n",
    "\n",
    "```bash\n",
    "conda activate selenium\n",
    "```\n",
    "\n",
    "- 安裝一些要用到的套件\n",
    "\n",
    "```bash\n",
    "pip install beautifulsoup4 pyquery selenium ipykernel\n",
    "```\n",
    "\n",
    "- 建立 selenium kernel\n",
    "\n",
    "```bash\n",
    "python -m ipykernel install --user --name selenium --display-name \"selenium\"\n",
    "```\n",
    "\n",
    "- 測試 selenium 是否可以正常作用\n",
    "\n",
    "```python\n",
    "from selenium import webdriver\n",
    "\n",
    "chrome_driver_path = \"C:/Users/admin/Downloads/chromedriver.exe\"\n",
    "driver = webdriver.Chrome(executable_path=chrome_driver_path)\n",
    "driver.get(\"https://www.imdb.com\")\n",
    "```\n",
    "\n",
    "- 常用的 `driver` 方法：\n",
    "    - `.get()`\n",
    "    - `.send_keys()`\n",
    "    - `.find_element(s)_by_css_selector()`\n",
    "    - `.click()`\n",
    "    - `.forward()`\n",
    "    - `.back()`\n",
    "    - `.close()`\n",
    "    - ...etc."
   ]
  },
  {
   "cell_type": "code",
   "execution_count": null,
   "metadata": {},
   "outputs": [],
   "source": [
    "from selenium import webdriver\n",
    "\n",
    "# 透過指定的瀏覽器 driver 打開 Chrome\n",
    "chrome_driver_path = \"C:/Users/admin/Downloads/chromedriver.exe\"\n",
    "driver = webdriver.Chrome(executable_path=chrome_driver_path)\n",
    "#透過瀏覽器取得網頁\n",
    "driver.get(\"https://www.imdb.com\") "
   ]
  },
  {
   "cell_type": "markdown",
   "metadata": {},
   "source": [
    "## 瀏覽器視窗最大化\n",
    "- 瀏覽器大小會影響網頁結構，且網站根據使用者裝置的大小會有不同的呈現\n",
    "- 一開始打開瀏覽器的時候並非視窗最大化(建議一般使用情況都先將瀏覽器視窗最大化)"
   ]
  },
  {
   "cell_type": "code",
   "execution_count": null,
   "metadata": {},
   "outputs": [],
   "source": [
    "from selenium import webdriver\n",
    "#透過指定的瀏覽器driver打開Chrome\n",
    "driver = webdriver.Chrome('C:/selenium_driver_chrome/chromedriver')\n",
    "#將瀏覽器視窗最大化\n",
    "driver.maximize_window()"
   ]
  },
  {
   "cell_type": "markdown",
   "metadata": {},
   "source": [
    "## Selenium定位tag - Beautifulsoup\n",
    "- 大致上與 Beautifulsoup 定位 tag 的方法相似  \n",
    "- find_element_by_id()  \n",
    "- find_element_by_tag_name()  \n",
    "- find_element_by_class_name()  \n",
    "``\n",
    "#e.g 取得id='first'的tag\n",
    "id_tag = diver.find_element_by_id('first')\n",
    "print(id_tag)\n",
    "``"
   ]
  },
  {
   "cell_type": "markdown",
   "metadata": {},
   "source": [
    "## Selenium定位tag - XPath\n",
    "- Selenium 還可透過類似路徑寫法的 XPath 定位 tag\n",
    "- 尋找XPath的方法\n",
    "   - [Chrome extension: XPath helper](https://chrome.google.com/webstore/detail/xpath-helper/hgimnogjllphhhkhlmebbmlgjoejdpjl?utm_source=chrome-app-launcher-info-dialog)\n",
    "   - 透過開發者工具取得XPath。從開發者工具中按Copy XPath複製XPath"
   ]
  },
  {
   "cell_type": "markdown",
   "metadata": {},
   "source": [
    "### XPath範例\n",
    "```\n",
    "#尋找一個html>body>div[2]>div[0]  \n",
    "driver.find_element_by_xpath('/html/body/div[2]/div[0]')\n",
    "\n",
    "#尋找網頁中所有的p tag  \n",
    "from selenium.webdriver.common.by import By  \n",
    "p = driver.find_elements(By.XPATH, '//p')\n",
    "\n",
    "#尋找任何一個id = 'first'的tag  \n",
    "p = driver.find_elements(By.XPATH, '//*[@id=\"first\"]')  \n",
    "\n",
    "#尋找網頁中id = 'second'或'third'的h2 tag  \n",
    "p = driver.find_elements(By.XPATH, '//h2[@id=\"second\"]|//h2[@id=\"third\"]')\n",
    "```"
   ]
  },
  {
   "cell_type": "code",
   "execution_count": null,
   "metadata": {},
   "outputs": [],
   "source": []
  }
 ],
 "metadata": {
  "kernelspec": {
   "display_name": "Python 3",
   "language": "python",
   "name": "python3"
  },
  "language_info": {
   "codemirror_mode": {
    "name": "ipython",
    "version": 3
   },
   "file_extension": ".py",
   "mimetype": "text/x-python",
   "name": "python",
   "nbconvert_exporter": "python",
   "pygments_lexer": "ipython3",
   "version": "3.7.3"
  }
 },
 "nbformat": 4,
 "nbformat_minor": 2
}
