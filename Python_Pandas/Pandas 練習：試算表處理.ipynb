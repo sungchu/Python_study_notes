{
 "cells": [
  {
   "cell_type": "code",
   "execution_count": 1,
   "metadata": {},
   "outputs": [],
   "source": [
    "import pandas as pd\n",
    "from string import ascii_uppercase\n",
    "\n",
    "def get_tidy_data(file_path):\n",
    "    xls_df = pd.read_excel(file_path, skiprows=[0, 1, 3, 4])\n",
    "    column_names = list(xls_df.columns)\n",
    "    n_candidates = len(column_names) - 11\n",
    "    candidate_numbers_names = column_names[3:(3+n_candidates)]\n",
    "    column_names = [\"district\", \"village\", \"office\"] + candidate_numbers_names + list(ascii_uppercase[:8])\n",
    "    xls_df.columns = column_names\n",
    "    xls_df[\"district\"] = xls_df[\"district\"].apply(lambda x: x.strip())    \n",
    "    imputed_district = list(xls_df[\"district\"].values)\n",
    "    for i in range(len(imputed_district)):\n",
    "        if len(imputed_district[i]) == 0:\n",
    "            imputed_district[i] = imputed_district[i-1]\n",
    "    xls_df[\"district\"] = imputed_district\n",
    "    '''\n",
    "    # 自己練習的寫法，也可以，但以運行速度來說，上面的程式碼比較快\n",
    "    for i in range(1,len(xls_df[\"district\"])):\n",
    "      if len(xls_df[\"district\"][i]) == 0:\n",
    "        xls_df[\"district\"][i] = xls_df[\"district\"][i-1]'\n",
    "    '''\n",
    "    xls_df = xls_df.dropna()\n",
    "    return xls_df"
   ]
  },
  {
   "cell_type": "code",
   "execution_count": 2,
   "metadata": {},
   "outputs": [
    {
     "data": {
      "text/plain": [
       "22"
      ]
     },
     "execution_count": 2,
     "metadata": {},
     "output_type": "execute_result"
    }
   ],
   "source": [
    "# 取得所有資料的連結\n",
    "county_mayor_xlss = [\"https://s3-ap-northeast-1.amazonaws.com/tw-election-2018/county-mayor/{}.xls\".format(i) for i in range(701, 715)]\n",
    "county_mayor_xlss += [\"https://s3-ap-northeast-1.amazonaws.com/tw-election-2018/county-mayor/801.xls\", \"https://s3-ap-northeast-1.amazonaws.com/tw-election-2018/county-mayor/802.xls\"]\n",
    "city_mayor_xlss = [\"https://s3-ap-northeast-1.amazonaws.com/tw-election-2018/city-mayor/{}.xls\".format(i) for i in range(100, 700, 100)]\n",
    "all_xls_files = city_mayor_xlss + county_mayor_xlss\n",
    "len(all_xls_files)"
   ]
  },
  {
   "cell_type": "code",
   "execution_count": 3,
   "metadata": {},
   "outputs": [],
   "source": [
    "cities = [\"台北市\", \"新北市\", \"桃園市\", \"台中市\", \"台南市\", \"高雄市\"]\n",
    "counties = [\"新竹縣\", \"苗栗縣\", \"彰化縣\", \"南投縣\", \"雲林縣\", \"嘉義縣\", \"屏東縣\", \"宜蘭縣\", \"花蓮縣\", \"台東縣\", \"澎湖縣\", \"基隆市\", \"新竹市\", \"嘉義市\", \"金門縣\", \"連江縣\"]\n",
    "admin_areas = cities + counties"
   ]
  },
  {
   "cell_type": "code",
   "execution_count": 4,
   "metadata": {},
   "outputs": [
    {
     "name": "stdout",
     "output_type": "stream",
     "text": [
      "現在正在處理台北市的資料...\n",
      "資料外觀為： (1563, 16)\n",
      "現在正在處理新北市的資料...\n",
      "資料外觀為： (2446, 13)\n",
      "現在正在處理桃園市的資料...\n",
      "資料外觀為： (1142, 16)\n",
      "現在正在處理台中市的資料...\n",
      "資料外觀為： (1601, 14)\n",
      "現在正在處理台南市的資料...\n",
      "資料外觀為： (1322, 17)\n",
      "現在正在處理高雄市的資料...\n",
      "資料外觀為： (1823, 15)\n",
      "現在正在處理新竹縣的資料...\n",
      "資料外觀為： (404, 15)\n",
      "現在正在處理苗栗縣的資料...\n",
      "資料外觀為： (470, 15)\n",
      "現在正在處理彰化縣的資料...\n",
      "資料外觀為： (1049, 16)\n",
      "現在正在處理南投縣的資料...\n",
      "資料外觀為： (488, 13)\n",
      "現在正在處理雲林縣的資料...\n",
      "資料外觀為： (557, 15)\n",
      "現在正在處理嘉義縣的資料...\n",
      "資料外觀為： (486, 15)\n",
      "現在正在處理屏東縣的資料...\n",
      "資料外觀為： (689, 14)\n",
      "現在正在處理宜蘭縣的資料...\n",
      "資料外觀為： (399, 16)\n",
      "現在正在處理花蓮縣的資料...\n",
      "資料外觀為： (299, 14)\n",
      "現在正在處理台東縣的資料...\n",
      "資料外觀為： (213, 16)\n",
      "現在正在處理澎湖縣的資料...\n",
      "資料外觀為： (116, 18)\n",
      "現在正在處理基隆市的資料...\n",
      "資料外觀為： (257, 13)\n",
      "現在正在處理新竹市的資料...\n",
      "資料外觀為： (299, 17)\n",
      "現在正在處理嘉義市的資料...\n",
      "資料外觀為： (177, 15)\n",
      "現在正在處理金門縣的資料...\n",
      "資料外觀為： (78, 17)\n",
      "現在正在處理連江縣的資料...\n",
      "資料外觀為： (9, 15)\n"
     ]
    }
   ],
   "source": [
    "df_dict = {}\n",
    "for xls_file, admin_area in zip(all_xls_files, admin_areas):\n",
    "    tidy_df = get_tidy_data(xls_file)\n",
    "    df_dict[admin_area] = tidy_df\n",
    "    print(\"現在正在處理{}的資料...\".format(admin_area))\n",
    "    print(\"資料外觀為：\", tidy_df.shape)"
   ]
  },
  {
   "cell_type": "code",
   "execution_count": 5,
   "metadata": {},
   "outputs": [
    {
     "data": {
      "text/plain": [
       "dict_keys(['台北市', '新北市', '桃園市', '台中市', '台南市', '高雄市', '新竹縣', '苗栗縣', '彰化縣', '南投縣', '雲林縣', '嘉義縣', '屏東縣', '宜蘭縣', '花蓮縣', '台東縣', '澎湖縣', '基隆市', '新竹市', '嘉義市', '金門縣', '連江縣'])"
      ]
     },
     "execution_count": 5,
     "metadata": {},
     "output_type": "execute_result"
    }
   ],
   "source": [
    "df_dict.keys()"
   ]
  },
  {
   "cell_type": "code",
   "execution_count": 6,
   "metadata": {},
   "outputs": [],
   "source": [
    "def get_long_df(df_dict):\n",
    "    mayor_votes_df = pd.DataFrame()\n",
    "    for k in df_dict:\n",
    "        df = df_dict[k]\n",
    "        df = df.drop(labels = [\"A\", \"B\", \"C\", \"D\", \"E\", \"F\", \"G\", \"H\"], axis=1)\n",
    "        candidate_infos = list(df.columns[3:])\n",
    "        df = df.melt(id_vars=['district', 'village', 'office'], value_vars=candidate_infos, var_name=\"candidate_info\", value_name='votes')\n",
    "        df[\"admin_area\"] = k\n",
    "        mayor_votes_df = mayor_votes_df.append(df)\n",
    "    split_candidate_info = mayor_votes_df[\"candidate_info\"].str.split(\"\\n\", expand=True)\n",
    "    mayor_votes_df[\"number\"] = split_candidate_info[0]\n",
    "    mayor_votes_df[\"candidate\"] = split_candidate_info[1]\n",
    "    mayor_votes_df[\"party\"] = split_candidate_info[2]\n",
    "    mayor_votes_df = mayor_votes_df.reset_index(drop=True)\n",
    "    mayor_votes_df[\"party\"] = mayor_votes_df[\"party\"].apply(lambda x: \"無黨籍\" if x == ' ' else x)\n",
    "    mayor_votes_df = mayor_votes_df[[\"admin_area\", \"district\", \"village\", \"office\", \"number\", \"party\", \"candidate\", \"votes\"]]\n",
    "    return mayor_votes_df"
   ]
  },
  {
   "cell_type": "code",
   "execution_count": 7,
   "metadata": {},
   "outputs": [],
   "source": [
    "mayors = get_long_df(df_dict)"
   ]
  },
  {
   "cell_type": "code",
   "execution_count": 8,
   "metadata": {},
   "outputs": [
    {
     "data": {
      "text/html": [
       "<div>\n",
       "<style scoped>\n",
       "    .dataframe tbody tr th:only-of-type {\n",
       "        vertical-align: middle;\n",
       "    }\n",
       "\n",
       "    .dataframe tbody tr th {\n",
       "        vertical-align: top;\n",
       "    }\n",
       "\n",
       "    .dataframe thead th {\n",
       "        text-align: right;\n",
       "    }\n",
       "</style>\n",
       "<table border=\"1\" class=\"dataframe\">\n",
       "  <thead>\n",
       "    <tr style=\"text-align: right;\">\n",
       "      <th></th>\n",
       "      <th>admin_area</th>\n",
       "      <th>district</th>\n",
       "      <th>village</th>\n",
       "      <th>office</th>\n",
       "      <th>number</th>\n",
       "      <th>party</th>\n",
       "      <th>candidate</th>\n",
       "      <th>votes</th>\n",
       "    </tr>\n",
       "  </thead>\n",
       "  <tbody>\n",
       "    <tr>\n",
       "      <th>0</th>\n",
       "      <td>台北市</td>\n",
       "      <td>北投區</td>\n",
       "      <td>建民里</td>\n",
       "      <td>1.0</td>\n",
       "      <td>1</td>\n",
       "      <td>無黨籍</td>\n",
       "      <td>吳蕚洋</td>\n",
       "      <td>4</td>\n",
       "    </tr>\n",
       "    <tr>\n",
       "      <th>1</th>\n",
       "      <td>台北市</td>\n",
       "      <td>北投區</td>\n",
       "      <td>建民里</td>\n",
       "      <td>2.0</td>\n",
       "      <td>1</td>\n",
       "      <td>無黨籍</td>\n",
       "      <td>吳蕚洋</td>\n",
       "      <td>2</td>\n",
       "    </tr>\n",
       "    <tr>\n",
       "      <th>2</th>\n",
       "      <td>台北市</td>\n",
       "      <td>北投區</td>\n",
       "      <td>建民里</td>\n",
       "      <td>3.0</td>\n",
       "      <td>1</td>\n",
       "      <td>無黨籍</td>\n",
       "      <td>吳蕚洋</td>\n",
       "      <td>2</td>\n",
       "    </tr>\n",
       "    <tr>\n",
       "      <th>3</th>\n",
       "      <td>台北市</td>\n",
       "      <td>北投區</td>\n",
       "      <td>文林里</td>\n",
       "      <td>4.0</td>\n",
       "      <td>1</td>\n",
       "      <td>無黨籍</td>\n",
       "      <td>吳蕚洋</td>\n",
       "      <td>1</td>\n",
       "    </tr>\n",
       "    <tr>\n",
       "      <th>4</th>\n",
       "      <td>台北市</td>\n",
       "      <td>北投區</td>\n",
       "      <td>文林里</td>\n",
       "      <td>5.0</td>\n",
       "      <td>1</td>\n",
       "      <td>無黨籍</td>\n",
       "      <td>吳蕚洋</td>\n",
       "      <td>5</td>\n",
       "    </tr>\n",
       "  </tbody>\n",
       "</table>\n",
       "</div>"
      ],
      "text/plain": [
       "  admin_area district village  office number party candidate  votes\n",
       "0        台北市      北投區     建民里     1.0      1   無黨籍       吳蕚洋      4\n",
       "1        台北市      北投區     建民里     2.0      1   無黨籍       吳蕚洋      2\n",
       "2        台北市      北投區     建民里     3.0      1   無黨籍       吳蕚洋      2\n",
       "3        台北市      北投區     文林里     4.0      1   無黨籍       吳蕚洋      1\n",
       "4        台北市      北投區     文林里     5.0      1   無黨籍       吳蕚洋      5"
      ]
     },
     "execution_count": 8,
     "metadata": {},
     "output_type": "execute_result"
    }
   ],
   "source": [
    "mayors.head()"
   ]
  },
  {
   "cell_type": "code",
   "execution_count": 9,
   "metadata": {},
   "outputs": [
    {
     "data": {
      "text/html": [
       "<div>\n",
       "<style scoped>\n",
       "    .dataframe tbody tr th:only-of-type {\n",
       "        vertical-align: middle;\n",
       "    }\n",
       "\n",
       "    .dataframe tbody tr th {\n",
       "        vertical-align: top;\n",
       "    }\n",
       "\n",
       "    .dataframe thead th {\n",
       "        text-align: right;\n",
       "    }\n",
       "</style>\n",
       "<table border=\"1\" class=\"dataframe\">\n",
       "  <thead>\n",
       "    <tr style=\"text-align: right;\">\n",
       "      <th></th>\n",
       "      <th>admin_area</th>\n",
       "      <th>district</th>\n",
       "      <th>village</th>\n",
       "      <th>office</th>\n",
       "      <th>number</th>\n",
       "      <th>party</th>\n",
       "      <th>candidate</th>\n",
       "      <th>votes</th>\n",
       "    </tr>\n",
       "  </thead>\n",
       "  <tbody>\n",
       "    <tr>\n",
       "      <th>62684</th>\n",
       "      <td>連江縣</td>\n",
       "      <td>北竿鄉</td>\n",
       "      <td>后沃村、橋仔村、塘岐村</td>\n",
       "      <td>5.0</td>\n",
       "      <td>4</td>\n",
       "      <td>中國國民黨</td>\n",
       "      <td>劉增應</td>\n",
       "      <td>838</td>\n",
       "    </tr>\n",
       "    <tr>\n",
       "      <th>62685</th>\n",
       "      <td>連江縣</td>\n",
       "      <td>北竿鄉</td>\n",
       "      <td>坂里村、白沙村、芹壁村</td>\n",
       "      <td>6.0</td>\n",
       "      <td>4</td>\n",
       "      <td>中國國民黨</td>\n",
       "      <td>劉增應</td>\n",
       "      <td>301</td>\n",
       "    </tr>\n",
       "    <tr>\n",
       "      <th>62686</th>\n",
       "      <td>連江縣</td>\n",
       "      <td>莒光鄉</td>\n",
       "      <td>田沃村、西坵村、青帆村</td>\n",
       "      <td>7.0</td>\n",
       "      <td>4</td>\n",
       "      <td>中國國民黨</td>\n",
       "      <td>劉增應</td>\n",
       "      <td>341</td>\n",
       "    </tr>\n",
       "    <tr>\n",
       "      <th>62687</th>\n",
       "      <td>連江縣</td>\n",
       "      <td>莒光鄉</td>\n",
       "      <td>大坪村、福正村</td>\n",
       "      <td>8.0</td>\n",
       "      <td>4</td>\n",
       "      <td>中國國民黨</td>\n",
       "      <td>劉增應</td>\n",
       "      <td>391</td>\n",
       "    </tr>\n",
       "    <tr>\n",
       "      <th>62688</th>\n",
       "      <td>連江縣</td>\n",
       "      <td>東引鄉</td>\n",
       "      <td>樂華村、中柳村</td>\n",
       "      <td>9.0</td>\n",
       "      <td>4</td>\n",
       "      <td>中國國民黨</td>\n",
       "      <td>劉增應</td>\n",
       "      <td>396</td>\n",
       "    </tr>\n",
       "  </tbody>\n",
       "</table>\n",
       "</div>"
      ],
      "text/plain": [
       "      admin_area district      village  office number  party candidate  votes\n",
       "62684        連江縣      北竿鄉  后沃村、橋仔村、塘岐村     5.0      4  中國國民黨       劉增應    838\n",
       "62685        連江縣      北竿鄉  坂里村、白沙村、芹壁村     6.0      4  中國國民黨       劉增應    301\n",
       "62686        連江縣      莒光鄉  田沃村、西坵村、青帆村     7.0      4  中國國民黨       劉增應    341\n",
       "62687        連江縣      莒光鄉      大坪村、福正村     8.0      4  中國國民黨       劉增應    391\n",
       "62688        連江縣      東引鄉      樂華村、中柳村     9.0      4  中國國民黨       劉增應    396"
      ]
     },
     "execution_count": 9,
     "metadata": {},
     "output_type": "execute_result"
    }
   ],
   "source": [
    "mayors.tail()"
   ]
  },
  {
   "cell_type": "code",
   "execution_count": 10,
   "metadata": {},
   "outputs": [],
   "source": [
    "# 在 google colab 轉換成 csv \n",
    "mayors.to_csv(\"mayors.csv\", index=False)"
   ]
  },
  {
   "cell_type": "code",
   "execution_count": 12,
   "metadata": {},
   "outputs": [
    {
     "ename": "ModuleNotFoundError",
     "evalue": "No module named 'google'",
     "output_type": "error",
     "traceback": [
      "\u001b[1;31m---------------------------------------------------------------------------\u001b[0m",
      "\u001b[1;31mModuleNotFoundError\u001b[0m                       Traceback (most recent call last)",
      "\u001b[1;32m<ipython-input-12-9cdb5337daea>\u001b[0m in \u001b[0;36m<module>\u001b[1;34m\u001b[0m\n\u001b[0;32m      1\u001b[0m \u001b[1;31m# 下載 csv\u001b[0m\u001b[1;33m\u001b[0m\u001b[1;33m\u001b[0m\u001b[1;33m\u001b[0m\u001b[0m\n\u001b[1;32m----> 2\u001b[1;33m \u001b[1;32mfrom\u001b[0m \u001b[0mgoogle\u001b[0m \u001b[1;32mimport\u001b[0m \u001b[0mfiles\u001b[0m\u001b[1;33m\u001b[0m\u001b[1;33m\u001b[0m\u001b[0m\n\u001b[0m\u001b[0;32m      3\u001b[0m \u001b[1;33m\u001b[0m\u001b[0m\n\u001b[0;32m      4\u001b[0m \u001b[0mfiles\u001b[0m\u001b[1;33m.\u001b[0m\u001b[0mdownload\u001b[0m\u001b[1;33m(\u001b[0m\u001b[1;34m\"mayors.csv\"\u001b[0m\u001b[1;33m)\u001b[0m\u001b[1;33m\u001b[0m\u001b[1;33m\u001b[0m\u001b[0m\n",
      "\u001b[1;31mModuleNotFoundError\u001b[0m: No module named 'google'"
     ]
    }
   ],
   "source": [
    "# 在 google colab 下載 csv\n",
    "from google.colab import files\n",
    "\n",
    "files.download(\"mayors.csv\")"
   ]
  }
 ],
 "metadata": {
  "kernelspec": {
   "display_name": "Python 3",
   "language": "python",
   "name": "python3"
  },
  "language_info": {
   "codemirror_mode": {
    "name": "ipython",
    "version": 3
   },
   "file_extension": ".py",
   "mimetype": "text/x-python",
   "name": "python",
   "nbconvert_exporter": "python",
   "pygments_lexer": "ipython3",
   "version": "3.7.3"
  }
 },
 "nbformat": 4,
 "nbformat_minor": 2
}
