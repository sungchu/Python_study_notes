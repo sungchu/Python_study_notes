{
 "cells": [
  {
   "cell_type": "markdown",
   "metadata": {
    "colab_type": "text",
    "id": "okQQ744D33yr"
   },
   "source": [
    "# install \n",
    "## Python \n",
    "- 進入 [Python](http://www.python.org) 官網，下載最新的Python 3版本\n",
    "   - 官方已經不推薦使用Python 2，且不再更新\n",
    "   \n",
    "## Anaconda\n",
    "- 進入 [Anaconda](https://www.anaconda.com/) 官網，下載與電腦相對應的版本\n",
    "   - 下載時，Advanced Options 中的 Add Anaconda to the system PATH environment variable 記得一定要勾選 "
   ]
  },
  {
   "cell_type": "markdown",
   "metadata": {
    "colab_type": "text",
    "id": "qJKHiDS-32Lj"
   },
   "source": [
    "# 中文編碼\n",
    "- BIG-5: 繁體中文的專用編碼方式，對其他語系相容性低\n",
    "- UTF-8: 符合 Unicode 格式的編碼，可以當成在不同語系之間的翻譯橋梁\n"
   ]
  },
  {
   "cell_type": "markdown",
   "metadata": {
    "colab_type": "text",
    "id": "PYN3W0Gs32Tz"
   },
   "source": [
    "# 資料型態\n",
    "\n",
    "\n",
    "\n",
    "\n"
   ]
  },
  {
   "cell_type": "markdown",
   "metadata": {
    "colab_type": "text",
    "id": "cg0UnlNj8XbA"
   },
   "source": [
    "## 數值型別\n",
    "- int: 整數(integer)，儲存每有小數點的整數數值\n",
    "\n",
    "- float: 浮點數，可以儲存具有小數點的數值\n",
    "\n",
    "- bool: 布林(boolean)，包含 True, False, None 三種資料值\n",
    "\n",
    "- complex: 虛數\n",
    "   - complex(x, y): x為實部的數字，y為虛部的數字\n",
    "   - 也可以直接用 x + yj 的方式表示 e.g. 1 + 5j"
   ]
  },
  {
   "cell_type": "markdown",
   "metadata": {
    "colab_type": "text",
    "id": "HYeFHvv58Q3P"
   },
   "source": [
    "## 字串型別 (詳見下方 字串方法的使用)\n",
    "- str: 可以用「‘   ’」、「‘‘   ’’」、「‘‘‘   ’’’」把文字包住\n",
    "   - 有順序性，且第一個的 index = 0"
   ]
  },
  {
   "cell_type": "code",
   "execution_count": 0,
   "metadata": {
    "colab": {
     "base_uri": "https://localhost:8080/",
     "height": 52
    },
    "colab_type": "code",
    "id": "-sgDbYWD-ezY",
    "outputId": "3739bb55-ab4b-4766-e39f-830c388a493f"
   },
   "outputs": [
    {
     "name": "stdout",
     "output_type": "stream",
     "text": [
      "l\n",
      "W\n"
     ]
    }
   ],
   "source": [
    "x = 'Hello, World!'\n",
    "print(x[3])\n",
    "print(x[7])"
   ]
  },
  {
   "cell_type": "markdown",
   "metadata": {
    "colab_type": "text",
    "id": "qjgEjXQG8Qsm"
   },
   "source": [
    "## 容器型別 (詳見下方 容器)\n",
    "\n",
    "- tuple: 序對，在 ( ) 裡面可以放置一個以上的資料值，有順序性，不可更改其內容\n",
    "\n",
    "- list: 串列，在 [ ] 裡面可以放置一個以上的資料值，有順序性，可以更改其內容的型態\n",
    "\n",
    "- set: 集合，在 { } 裡面可以放置一個以上的資料值，類似集合的概念，所以內容無順序性\n",
    "\n",
    "- dict: 字典，在 { } 裡面可以放置一個以上的元素，是一種 Key-Value 的配對型別，而 key 就是用來存取每個相對應 value 的索引值"
   ]
  },
  {
   "cell_type": "markdown",
   "metadata": {
    "colab_type": "text",
    "id": "A_oF_E5E8QRw"
   },
   "source": [
    "## type(): 回傳變數型態"
   ]
  },
  {
   "cell_type": "code",
   "execution_count": 0,
   "metadata": {
    "colab": {
     "base_uri": "https://localhost:8080/",
     "height": 173
    },
    "colab_type": "code",
    "id": "cCZIMC_oBAm4",
    "outputId": "2680278b-aa63-48ab-e562-a08c53fcac27"
   },
   "outputs": [
    {
     "name": "stdout",
     "output_type": "stream",
     "text": [
      "<class 'int'>\n",
      "<class 'str'>\n",
      "<class 'float'>\n",
      "<class 'complex'>\n",
      "<class 'bool'>\n",
      "<class 'tuple'>\n",
      "<class 'list'>\n",
      "<class 'set'>\n",
      "<class 'dict'>\n"
     ]
    }
   ],
   "source": [
    "x = 123\n",
    "print(type(x))\n",
    "\n",
    "x = '123'\n",
    "print(type(x))\n",
    "\n",
    "x = 123.0\n",
    "print(type(x))\n",
    "\n",
    "x = 123 + 0j\n",
    "print(type(x))\n",
    "\n",
    "x = True\n",
    "print(type(x))\n",
    "\n",
    "x = (123, 456)\n",
    "print(type(x))\n",
    "\n",
    "x = [123]\n",
    "print(type(x))\n",
    "\n",
    "x = {123}\n",
    "print(type(x))\n",
    "\n",
    "x = {1:123}\n",
    "print(type(x))"
   ]
  },
  {
   "cell_type": "markdown",
   "metadata": {
    "colab_type": "text",
    "id": "dd0No5rrFxHq"
   },
   "source": [
    "# 輸出及輸入\n",
    "\n"
   ]
  },
  {
   "cell_type": "markdown",
   "metadata": {
    "colab_type": "text",
    "id": "5kE7XyyrCMma"
   },
   "source": [
    "## print(): 輸出\n",
    "- `print(value, ..., sep = ' ', end = '\\n', file = sys.stdout, flush = False)`\n",
    "   - `value`: 想輸出的值\n",
    "   - ``...``: 可以用逗號隔開多個想輸出的值\n",
    "   - `sep`: 隔開的方式，預設為半形空白\n",
    "   - `end`: 每次輸出之後在最後面加上的內容，預設為\\n，也就是換行\n",
    "   - `file`: 輸出的串流裝置，預設為 sys.stdout，也就是標準輸出裝置(通常是螢幕)\n",
    "   - `flush`: 是否要強制將欲輸出之資訊輸出，而不是先放緩衝區，等同一區塊的程式碼都執行完畢後才一次性輸出，通常在執行迴圈時才會用的這個功能"
   ]
  },
  {
   "cell_type": "code",
   "execution_count": 0,
   "metadata": {
    "colab": {
     "base_uri": "https://localhost:8080/",
     "height": 87
    },
    "colab_type": "code",
    "id": "kAuTv7fqEXJO",
    "outputId": "9334fe10-8ccf-4308-c863-3202e5aaa01e"
   },
   "outputs": [
    {
     "name": "stdout",
     "output_type": "stream",
     "text": [
      "1 2 3 apple\n",
      "1  2  3  apple\n",
      "1-2-3-apple\n",
      "1,2,3,apple%"
     ]
    }
   ],
   "source": [
    "print(1,2,3,'apple')\n",
    "print(1,2,3,'apple', sep = '  ')\n",
    "print(1,2,3,'apple', sep = '-')\n",
    "print(1,2,3,'apple', sep = ',', end = '%')"
   ]
  },
  {
   "cell_type": "markdown",
   "metadata": {
    "colab_type": "text",
    "id": "j8Hin_aDFzkR"
   },
   "source": [
    "## 輸出特殊字元\n",
    "- 像是「‘   ’」、「‘‘   ’’」是無法在螢幕上顯示的，需要在前面加上反斜線\n",
    "   - `\\a`: 響鈴 \n",
    "   - `\\b`: 退格\n",
    "   - `\\f`: 換頁\n",
    "   - `\\n`: 換行\n",
    "   - `\\r`: 歸位\n",
    "   - `\\v`: 垂直定位\n",
    "   - `\\\\`: 印出反斜線\n",
    "   - `\\t`: tab鍵\n",
    "   - `\\'`: 印出單引號\n",
    "   - `\\\"`: 印出雙引號"
   ]
  },
  {
   "cell_type": "code",
   "execution_count": 0,
   "metadata": {
    "colab": {
     "base_uri": "https://localhost:8080/",
     "height": 52
    },
    "colab_type": "code",
    "id": "Idq5tLpgHPMz",
    "outputId": "fe1931f9-b67a-43e3-f684-b81b6f284926"
   },
   "outputs": [
    {
     "name": "stdout",
     "output_type": "stream",
     "text": [
      "Hello world.\n",
      "This is an apple.\n"
     ]
    }
   ],
   "source": [
    "print('Hello world.\\nThis is an apple.')"
   ]
  },
  {
   "cell_type": "code",
   "execution_count": 0,
   "metadata": {
    "colab": {
     "base_uri": "https://localhost:8080/",
     "height": 69
    },
    "colab_type": "code",
    "id": "3vfnDHHcHnYF",
    "outputId": "b8bfbf94-a685-4c45-bd4d-d876ad9ab7e5"
   },
   "outputs": [
    {
     "name": "stdout",
     "output_type": "stream",
     "text": [
      "姓名\t座號\t分數\n",
      "王小明\t20\t40\n",
      "小美\t21\t100\n"
     ]
    }
   ],
   "source": [
    "print('姓名\\t座號\\t分數')\n",
    "print('王小明\\t20\\t40')\n",
    "print('小美\\t21\\t100')"
   ]
  },
  {
   "cell_type": "markdown",
   "metadata": {
    "colab_type": "text",
    "id": "mHnmNq1HIUXB"
   },
   "source": [
    "## input(): 輸入\n",
    "- 轉整數用 int()\n",
    "- 轉小數點用 float()\n",
    "- 用 eval() 可以自動判斷型態，自動轉換後存起來，如果給的值是非數值資料，會出錯"
   ]
  },
  {
   "cell_type": "code",
   "execution_count": 0,
   "metadata": {
    "colab": {
     "base_uri": "https://localhost:8080/",
     "height": 139
    },
    "colab_type": "code",
    "id": "5IeWOSEMJ6TI",
    "outputId": "f37caf18-b973-4523-f696-3636a72e95e4"
   },
   "outputs": [
    {
     "name": "stdout",
     "output_type": "stream",
     "text": [
      "請輸入分子:2\n",
      "請輸入分母:3\n",
      "<class 'str'> <class 'str'>\n",
      "請輸入分子:4\n",
      "請輸入分母:5\n",
      "<class 'int'> <class 'int'>\n",
      "0.8\n"
     ]
    }
   ],
   "source": [
    "integer1 = input(\"請輸入分子:\")\n",
    "integer2 = input(\"請輸入分母:\")\n",
    "print(type(integer1),type(integer2)) #會發現這兩者的資料型態都是字串\n",
    "\n",
    "integer1 = eval(input(\"請輸入分子:\"))\n",
    "integer2 = eval(input(\"請輸入分母:\"))\n",
    "print(type(integer1),type(integer2)) #轉換成數值型態，才能運算\n",
    "print(integer1/integer2)"
   ]
  },
  {
   "cell_type": "markdown",
   "metadata": {
    "colab_type": "text",
    "id": "Ei9r4yFhJhyu"
   },
   "source": [
    "# 註解\n",
    "- 井字號 (#): 單行註解\n",
    "- 三個雙引號跟三個單引號: 多行註解 "
   ]
  },
  {
   "cell_type": "markdown",
   "metadata": {
    "colab_type": "text",
    "id": "teZ4m92YLlEj"
   },
   "source": [
    "# 變數命名法\n",
    "\n",
    "- 命名法\n",
    "   - 匈牙利式命名法：把變數型態寫在變數名稱前  e.g.strStudentName\n",
    "   - 駝峰式命名法：studentName\n",
    "   - 含底線命名法：student_name\n",
    "   \n",
    "- 賦值: 將特定資料指派給變數\n",
    "\n"
   ]
  },
  {
   "cell_type": "markdown",
   "metadata": {
    "colab_type": "text",
    "id": "cwb0AyistFOK"
   },
   "source": [
    "# 運算式、運算子、運算元\n",
    "- 運算子\n",
    "   - 算數運算子: + , - , * , **（指數）, / , //（整數除法）, %（取餘數）\n",
    "   - 指定運算子: = , += , -= , *= , /= , %=  \n",
    "   - 比較 / 關係運算子: > , < , >= , <= , == , !=\n",
    "      - == : A是否等於B，只會有True, False兩種結果\n",
    "      - in : 判斷一元素是否為一集合的元素，適用範圍包含字串、集合、清單、序對和字典\n",
    "   - 邏輯運算子（又稱布林運算子）: and , or , not\n",
    "   - 其他運算子"
   ]
  },
  {
   "cell_type": "markdown",
   "metadata": {},
   "source": [
    "Hint:\n",
    "- is: 判斷兩個物件的 id 是否相同\n",
    "- ==: 判斷兩個物件的 value 是否相同"
   ]
  },
  {
   "cell_type": "markdown",
   "metadata": {
    "colab_type": "text",
    "id": "JoYrUpqBI46y"
   },
   "source": [
    "# 判斷式\n",
    "- 單向判斷（ if...）\n",
    "- 雙向判斷（ if... else...）\n",
    "- 多項判斷（ if... elif... else）\n",
    "- 巢狀判斷"
   ]
  },
  {
   "cell_type": "code",
   "execution_count": 0,
   "metadata": {
    "colab": {
     "base_uri": "https://localhost:8080/",
     "height": 51
    },
    "colab_type": "code",
    "id": "gdA0VPEbvfi9",
    "outputId": "c4067a70-e9d1-4f63-eacd-db312fba8566"
   },
   "outputs": [
    {
     "name": "stdout",
     "output_type": "stream",
     "text": [
      "89\n",
      "獎金 500 元\n"
     ]
    }
   ],
   "source": [
    "'''\n",
    "範例：多項判斷\n",
    "\n",
    "寫一獎學金判斷程式:\n",
    "若你的分數達 95 分以上，得獎金 2000 元\n",
    "若你的分數介於 90 到 94 分，得獎金 2000 元\n",
    "若你的分數介於 80 到 89 分，得獎金 2000 元\n",
    "若你的分數不到80分，則無獎金\n",
    "'''\n",
    "score = eval(input())\n",
    "\n",
    "sco = 0\n",
    "\n",
    "if score >= 95:\n",
    "  sco = 2000\n",
    "elif score >= 90 and score < 95:\n",
    "  sco = 1000\n",
    "elif score >= 80 and score < 90:\n",
    "  sco = 500\n",
    "else:\n",
    "  sco = 0\n",
    "  \n",
    "print('獎金',sco,'元')"
   ]
  },
  {
   "cell_type": "code",
   "execution_count": 0,
   "metadata": {
    "colab": {},
    "colab_type": "code",
    "id": "LS--SoPYxWiY"
   },
   "outputs": [],
   "source": [
    "'''\n",
    "範例：巢狀判斷\n",
    "\n",
    "比賽的參賽資格要年滿18歲，並且限制已經參賽四次的選手不得參加第五次\n",
    "'''\n",
    "age = input('請輸入您的年齡\\n')\n",
    "\n",
    "if int(age) >= 18:\n",
    "  times = input('請問這是第幾次參加此大賽?\\n')\n",
    "  if int(times) < 5:\n",
    "    print('恭喜您，符合本大賽的參賽資格。')\n",
    "  else:\n",
    "    print('很抱歉，您參加太多次了，請把機會留給別人。')\n",
    "else:\n",
    "  print('很抱歉，您的年齡不符合大賽的規定。')\n",
    "\n"
   ]
  },
  {
   "cell_type": "markdown",
   "metadata": {
    "colab_type": "text",
    "id": "W1Sk26j3FrHM"
   },
   "source": [
    "## 亂數 \n",
    "- random.randint(min, max)\n",
    "   - 回傳在範圍 [min, max] 之中的一亂數 \n",
    "- choice(sequence)\n",
    "   - 回傳一容器中隨機選擇的數值\n",
    "   - 容器可以是range, string, list, ..."
   ]
  },
  {
   "cell_type": "code",
   "execution_count": 0,
   "metadata": {
    "colab": {
     "base_uri": "https://localhost:8080/",
     "height": 85
    },
    "colab_type": "code",
    "id": "6qNxwnu2GWMh",
    "outputId": "65c0c78b-4a02-45d2-ba35-4c3bbb66c436"
   },
   "outputs": [
    {
     "name": "stdout",
     "output_type": "stream",
     "text": [
      "3\n",
      "4\n",
      "l\n",
      "3\n"
     ]
    }
   ],
   "source": [
    "import random\n",
    "\n",
    "print(random.randint(1,5))\n",
    "\n",
    "print(random.choice(range(4,20,2)))\n",
    "print(random.choice(\"hello\"))\n",
    "x = [1,2,3,4,5]\n",
    "print(random.choice(x))"
   ]
  },
  {
   "cell_type": "markdown",
   "metadata": {
    "colab_type": "text",
    "id": "8DZQpR2jtVZR"
   },
   "source": [
    "# 迴圈\n",
    "- for... in 迴圈: 用於迴圈的次數可預知時\n",
    "   - 執行 for 迴圈的三個條件:\n",
    "      - 設定控制變數的初始值\n",
    "      - 設定控制變數的終止值，就是迴圈結束的條件\n",
    "      - 設定控制變數值的變動方向與量，就是迴圈所謂的迭代\n",
    "   - for 迴圈裡面的 expression\n",
    "       - 變數（常用 i 表示）\n",
    "       - 變數序列（iterable 迭代）如 list, tuple, range()函數\n",
    "- while 迴圈: 用於迴圈次數無法確定時\n",
    "   - boolean_expression(布林)是while迴圈執行的條件\n",
    "- 巢狀迴圈\n",
    "- 強制結束: break\n",
    "   - 如果是寫while True 無窮迴圈，就需要用break跳出\n",
    "- 強制回頭: continue(跳過後面的敘述區段，直接返回到迴圈的條件式，判斷是否繼續執行迴圈)\n",
    "\n"
   ]
  },
  {
   "cell_type": "markdown",
   "metadata": {
    "colab_type": "text",
    "id": "OGkIBoq8JCTp"
   },
   "source": [
    "## range()函數\n",
    "- range([start], stop[, step])\n",
    "   - start 是起始值，stop是停止條件(不會被輸出)，step是迭代數字，預設為1\n",
    "- 通常會把 range() 轉型成其他容器資料型態如list, tuple等"
   ]
  },
  {
   "cell_type": "code",
   "execution_count": 0,
   "metadata": {
    "colab": {
     "base_uri": "https://localhost:8080/",
     "height": 85
    },
    "colab_type": "code",
    "id": "9i5byau-J7oX",
    "outputId": "544e1469-978c-4239-b390-26bfd8d06741"
   },
   "outputs": [
    {
     "name": "stdout",
     "output_type": "stream",
     "text": [
      "range(0, 10)\n",
      "[0, 1, 2, 3, 4, 5, 6, 7, 8, 9]\n",
      "[10, 7, 4, 1, -2, -5, -8, -11]\n",
      "(-7, -2, 3, 8, 13, 18, 23)\n"
     ]
    }
   ],
   "source": [
    "print(range(10)) #直接印出range()會印出range物件，意義不大\n",
    "print(list(range(10))) #不包含10\n",
    "print(list(range(10,-14,-3)))\n",
    "print(tuple(range(-7,24,5)))"
   ]
  },
  {
   "cell_type": "markdown",
   "metadata": {
    "colab_type": "text",
    "id": "sWTxfYL0tex1"
   },
   "source": [
    "## 範例: for 迴圈"
   ]
  },
  {
   "cell_type": "code",
   "execution_count": 0,
   "metadata": {
    "colab": {
     "base_uri": "https://localhost:8080/",
     "height": 51
    },
    "colab_type": "code",
    "id": "admTsWPOLQRC",
    "outputId": "3e030645-2874-4421-e9ae-1bcb5e14e40b"
   },
   "outputs": [
    {
     "name": "stdout",
     "output_type": "stream",
     "text": [
      "5\n",
      "1+2+3+4+5= 15\n"
     ]
    }
   ],
   "source": [
    "'''\n",
    "範例: for 迴圈\n",
    "\n",
    "輸入一個大於0的整數 n\n",
    "印出\"1 + 2 + 3 + ... + n = 結果\"\n",
    "例如：輸入5，印出1 + 2 + 3 + 4 + 5 = 15\n",
    "'''\n",
    "\n",
    "num = eval(input('請輸入一大於零的整數'))\n",
    "sum1 = 0\n",
    "\n",
    "for i in range(1,num + 1):\n",
    "  sum1 += i\n",
    "  print(i,end = '')\n",
    "  if i < num:\n",
    "    print('+',end = '')\n",
    "else: \n",
    "  print('=',sum1)"
   ]
  },
  {
   "cell_type": "markdown",
   "metadata": {
    "colab_type": "text",
    "id": "btDFZt1wNVzT"
   },
   "source": [
    "## 範例: while迴圈\n"
   ]
  },
  {
   "cell_type": "code",
   "execution_count": 0,
   "metadata": {
    "colab": {
     "base_uri": "https://localhost:8080/",
     "height": 187
    },
    "colab_type": "code",
    "id": "Zm7kFNgwNbUt",
    "outputId": "f867dff7-1b7a-4091-c4d1-f91910cba1dc"
   },
   "outputs": [
    {
     "name": "stdout",
     "output_type": "stream",
     "text": [
      "4\n",
      "7\n",
      "39\n",
      "58\n",
      "104\n",
      "-1\n",
      "212\n",
      "42.4\n",
      "104\n",
      "5\n"
     ]
    }
   ],
   "source": [
    "'''\n",
    "範例: while迴圈\n",
    "\n",
    "請連續輸入一連串數字，直到輸入-1結束，請列出該數列之總和、平均、最大值及其輸入的位置\n",
    "'''\n",
    "t1 = 0  #total\n",
    "ct = 0  #counter\n",
    "MaxVal = 0  #目前已知最大值\n",
    "MaxPos = 0  #目前已知最大值的位置\n",
    "n = int(input())\n",
    "while n != -1:\n",
    "  t1 += n\n",
    "  ct += 1\n",
    "  if n > MaxVal:  #如果 這次輸入的值 比 目前已知最大值 還大的話\n",
    "    MaxVal = n    #就讓 這次輸入的值 成為 目前已知最大值\n",
    "    MaxPos = ct   #還要讓 這次輸入的值 成為 目前已知最大值 的位置\n",
    "  n = int(input())\n",
    "else:\n",
    "  print(t1)\n",
    "  print(t1/ct)\n",
    "  print(MaxVal)\n",
    "  print(MaxPos)"
   ]
  },
  {
   "cell_type": "markdown",
   "metadata": {
    "colab_type": "text",
    "id": "CTjxtMlgUMk8"
   },
   "source": [
    "## 範例: break"
   ]
  },
  {
   "cell_type": "code",
   "execution_count": 0,
   "metadata": {
    "colab": {
     "base_uri": "https://localhost:8080/",
     "height": 51
    },
    "colab_type": "code",
    "id": "4TA4B43pUMDM",
    "outputId": "29b44527-4247-4c4b-bfab-f63f4202276b"
   },
   "outputs": [
    {
     "name": "stdout",
     "output_type": "stream",
     "text": [
      "6\n",
      "6 is not included in the string\n"
     ]
    }
   ],
   "source": [
    "'''\n",
    "範例:break\n",
    "\n",
    "尋找某個數字，是否存在在字串中?\n",
    "'''\n",
    "st = [1,2,3,4,5,8,9,65,43]\n",
    "\n",
    "qnum = int(input())\n",
    "\n",
    "for i in range(len(st)):\n",
    "    if qnum == st[i]:\n",
    "        print(qnum,'is included in the string')\n",
    "        break\n",
    "else:\n",
    "    print(qnum,'is not included in the string')"
   ]
  },
  {
   "cell_type": "markdown",
   "metadata": {
    "colab_type": "text",
    "id": "VJaweTbkUimp"
   },
   "source": [
    "## 範例: continue"
   ]
  },
  {
   "cell_type": "code",
   "execution_count": 0,
   "metadata": {
    "colab": {
     "base_uri": "https://localhost:8080/",
     "height": 119
    },
    "colab_type": "code",
    "id": "ukHGXWQrUjEK",
    "outputId": "66e4215a-e3f4-4bac-b965-a34baaa9db17"
   },
   "outputs": [
    {
     "name": "stdout",
     "output_type": "stream",
     "text": [
      "6\n",
      "floor 1\n",
      "floor 2\n",
      "floor 3\n",
      "floor 5\n",
      "floor 6\n"
     ]
    }
   ],
   "source": [
    "'''\n",
    "範例: continue\n",
    "\n",
    "某棟沒有四樓的房子\n",
    "有一老房東希望你幫它設計一電梯\n",
    "但不要出現四樓這個樓層\n",
    "讓老房東輸入要去的樓層後\n",
    "印出從一樓出發所經過的所有樓層\n",
    "'''\n",
    "n = eval(input())\n",
    "for i in range(1,n+1):\n",
    "  if i == 4:\n",
    "    continue\n",
    "  print('floor',i)"
   ]
  },
  {
   "cell_type": "markdown",
   "metadata": {
    "colab_type": "text",
    "id": "iyGd6qEqV2se"
   },
   "source": [
    "# 格式化\n",
    "- 在輸出的地方先以「%」與其他文字做結合，後面在將要輸出的資訊加以詳述\n",
    "- 類型\n",
    "   - %%: 在字串中顯示%\n",
    "   - %d: 以10進位整數方式輸出\n",
    "   - %f: 將浮點數以10進位整數方式輸出\n",
    "   - %e, %E: 將浮點數以10進位及科學記號輸出\n",
    "   - %o: 以8進位整數方式輸出\n",
    "   - %x, %X: 以16進位整數方式輸出\n",
    "   - %s: 使用str()將字串輸出\n",
    "   - %c: 以chr方式輸出\n",
    "   - %r: 使用repr()輸出字串"
   ]
  },
  {
   "cell_type": "code",
   "execution_count": 0,
   "metadata": {
    "colab": {
     "base_uri": "https://localhost:8080/",
     "height": 187
    },
    "colab_type": "code",
    "id": "0aNhi451X-zI",
    "outputId": "cb6412be-f036-446d-fd14-d568ce68c965"
   },
   "outputs": [
    {
     "name": "stdout",
     "output_type": "stream",
     "text": [
      "這是一個整數34345。\n",
      "這是一個整數 34345。\n",
      "這是一個整數034345。\n",
      "\n",
      "ive\n",
      "   iver\n",
      "\n",
      "123 123\n",
      "123 123\n",
      "123'123'\n"
     ]
    }
   ],
   "source": [
    "# %d\n",
    "a = 34345\n",
    "print('這是一個整數%d。'%(a))\n",
    "print('這是一個整數%6d。'%(a))\n",
    "print('這是一個整數%06d。'%(a))\n",
    "print()\n",
    "\n",
    "# %s\n",
    "b = 'iverson'\n",
    "print('%.3s'%b)  #取字串的前三位輸出\n",
    "print('%7.4s'%b) #取字串的前四位元輸出，總長為7,補空白在左\n",
    "print()\n",
    "\n",
    "# %r\n",
    "print(123,'123')\n",
    "print('123','123')\n",
    "print('%r%r'%(123,'123'))"
   ]
  },
  {
   "cell_type": "markdown",
   "metadata": {
    "colab_type": "text",
    "id": "JlR1c0JFa1EJ"
   },
   "source": [
    "## 格式化字串運算: str.format(*args, **kwargs)\n"
   ]
  },
  {
   "cell_type": "code",
   "execution_count": 0,
   "metadata": {
    "colab": {
     "base_uri": "https://localhost:8080/",
     "height": 87
    },
    "colab_type": "code",
    "id": "yLiKC3SibRuj",
    "outputId": "78dfe908-b6d7-4b5f-ef9c-e6010c9d8abc"
   },
   "outputs": [
    {
     "name": "stdout",
     "output_type": "stream",
     "text": [
      "{}+{}={}\n",
      "7+9=16\n",
      "{city},{country}\n",
      "Taipei,Taiwan\n"
     ]
    }
   ],
   "source": [
    "a = '{}+{}={}'\n",
    "print(a)\n",
    "print(a.format(7,9,7+9))\n",
    "\n",
    "b = '{city},{country}'\n",
    "print(b)\n",
    "print(b.format(city = 'Taipei',country = 'Taiwan')) #以Taipei替換掉city,以Taiwan替換掉country"
   ]
  },
  {
   "cell_type": "code",
   "execution_count": 0,
   "metadata": {
    "colab": {
     "base_uri": "https://localhost:8080/",
     "height": 52
    },
    "colab_type": "code",
    "id": "1fBpis6kO0pO",
    "outputId": "ba61e898-689c-4817-91b2-4df255926c49"
   },
   "outputs": [
    {
     "name": "stdout",
     "output_type": "stream",
     "text": [
      "123.457\n",
      " 123.457\n"
     ]
    }
   ],
   "source": [
    "# 也可以設定顯示小數點以下後幾位\n",
    "\n",
    "print(\"{0:.3f}\".format(123.456789))\n",
    "print(\"{0:8.3f}\".format(123.456789))"
   ]
  },
  {
   "cell_type": "markdown",
   "metadata": {
    "colab_type": "text",
    "id": "0NdZsHnFQNvG"
   },
   "source": [
    "## 動態帶入格式化設定: %*\n"
   ]
  },
  {
   "cell_type": "code",
   "execution_count": 0,
   "metadata": {
    "colab": {
     "base_uri": "https://localhost:8080/",
     "height": 52
    },
    "colab_type": "code",
    "id": "J4S9mitmcynQ",
    "outputId": "6ba9b446-bc54-4a04-a64c-ca4a831c34bd"
   },
   "outputs": [
    {
     "name": "stdout",
     "output_type": "stream",
     "text": [
      "$ 987.98\n",
      "$ 987.98\n"
     ]
    }
   ],
   "source": [
    "money = 987.98\n",
    "print(\"$%7.2f\"%(money))   #前面討論的寫法\n",
    "print(\"$%*.2f\"%(7,money)) #動態帶入的寫法"
   ]
  },
  {
   "cell_type": "markdown",
   "metadata": {
    "colab_type": "text",
    "id": "pV_vCqR4R4Wa"
   },
   "source": [
    "## 輸出字典型態變數"
   ]
  },
  {
   "cell_type": "code",
   "execution_count": 0,
   "metadata": {
    "colab": {
     "base_uri": "https://localhost:8080/",
     "height": 35
    },
    "colab_type": "code",
    "id": "R_0o4JJzSE5C",
    "outputId": "2928de35-ecaa-42c5-949c-b974502c930c"
   },
   "outputs": [
    {
     "name": "stdout",
     "output_type": "stream",
     "text": [
      "iphone,nikon,xbox\n"
     ]
    }
   ],
   "source": [
    "name = {\"game\":\"xbox\",\"apple\":\"iphone\",\"camera\":\"nikon\"}\n",
    "print(\"%(apple)s,%(camera)s,%(game)s\"%name)"
   ]
  },
  {
   "cell_type": "markdown",
   "metadata": {
    "colab_type": "text",
    "id": "3abLgussSvR9"
   },
   "source": [
    "# 型態轉換\n",
    "- int(x[,base]): 將 x 轉換成整數，base 是轉換的基數，欲設為十進位\n",
    "- float(x): 將 x 轉換成浮點數\n",
    "- str(x): 將 x 轉換成字串\n",
    "- tuple(s): 將 s 轉換為tuple\n",
    "- list(s): 將 s 轉換為list\n",
    "- chr(x): 將 x 轉換為chr\n",
    "\n",
    "x 表示物件，s 表示字串"
   ]
  },
  {
   "cell_type": "markdown",
   "metadata": {
    "colab_type": "text",
    "id": "VvqIniAcUiE-"
   },
   "source": [
    "# 函式 (function) 與方法 (method)\n",
    "- 函式: 把程式碼包在同一區塊以便往後使用 (另外分一章節出來講)\n",
    "- 方法: 字串專用的函式\n",
    "- 兩者都要加小括號才能執行"
   ]
  },
  {
   "cell_type": "markdown",
   "metadata": {
    "colab_type": "text",
    "id": "OPOhZPgulLGw"
   },
   "source": [
    "## 字串方法的使用\n",
    "註: 以下 [ ] 中的文字是可以自由選擇要不要加上去"
   ]
  },
  {
   "cell_type": "markdown",
   "metadata": {
    "colab_type": "text",
    "id": "loM9AjkjlPol"
   },
   "source": [
    "### 刪除空白、多餘字元\n",
    "\n",
    "- `string.strip([char])`: 將 string 字串變數裡的左右兩邊的空白字元刪除掉\n",
    "- `string.lstrip(s[,chars])`: 左邊逼近\n",
    "- `string.rstrip(s[,chars])`: 右邊逼近\n",
    "\n",
    "   \n"
   ]
  },
  {
   "cell_type": "code",
   "execution_count": 0,
   "metadata": {
    "colab": {
     "base_uri": "https://localhost:8080/",
     "height": 156
    },
    "colab_type": "code",
    "id": "shmRspRcnkp1",
    "outputId": "526ab6f8-583f-449c-96f2-183095557685"
   },
   "outputs": [
    {
     "name": "stdout",
     "output_type": "stream",
     "text": [
      "            apple  \n",
      "   \t\n",
      "apple\n",
      "apple  \n",
      "   \t\n",
      "bbbbb aaa cccccccc\n",
      "cccccccc\n",
      " aaaa bbbbb aaa cccccccc\n"
     ]
    }
   ],
   "source": [
    "# string.strip\n",
    "s1 = '            apple  \\n   \\t'\n",
    "print(s1)\n",
    "print(s1.strip())\n",
    "print(s1.strip(' '))\n",
    "\n",
    "# string.lstrip / string.rstrip\n",
    "s2 = ' aaaa bbbbb aaa cccccccc'\n",
    "print(s2.lstrip(\" a\"))\n",
    "print(s2.lstrip(\" ab\"))\n",
    "print(s2.rstrip(\" ab\"))"
   ]
  },
  {
   "cell_type": "markdown",
   "metadata": {
    "colab_type": "text",
    "id": "yZuKogvdl0gx"
   },
   "source": [
    "### 大小寫互換與字元轉換\n",
    "- `string.swapcase()`: 將 string 字串裡的字母大小寫互換\n",
    "- `string.capitalize()`: 變數第一個字變大寫\n",
    "- `string.title()`: 將字串內每個英文單字的第一個字元轉成大寫\n",
    "- `string.upper()`: 將變數內的字母從小寫轉換為大寫\n",
    "- `string.lower()`: 將變數內的字母從大寫轉換為小寫\n",
    "- `string.translate(map)`\n",
    "   - 將 string 中的字元以 map 中配對的字元轉換\n",
    "   - 搭配 str.maketrans(from, to)"
   ]
  },
  {
   "cell_type": "code",
   "execution_count": 0,
   "metadata": {
    "colab": {
     "base_uri": "https://localhost:8080/",
     "height": 35
    },
    "colab_type": "code",
    "id": "KEOOS1WSZf9Q",
    "outputId": "1c765983-2fde-4c14-c634-4845761c6bf9"
   },
   "outputs": [
    {
     "name": "stdout",
     "output_type": "stream",
     "text": [
      "Th3s 3s 1n 1ppl2\n"
     ]
    }
   ],
   "source": [
    "# 範例: string.translate(map) 與 str.maketrans(from,to) 搭配使用\n",
    "intab = 'aeiou'\n",
    "outab = '12345'\n",
    "ttable = str.maketrans(intab, outab)\n",
    "\n",
    "s1 = \"This is an apple\"\n",
    "print(s1.translate(ttable))\n"
   ]
  },
  {
   "cell_type": "markdown",
   "metadata": {
    "colab_type": "text",
    "id": "3Ya-so5ToeQd"
   },
   "source": [
    "### 分割字串\n",
    "- `str.split([sep = None,maxsplit = -1])`\n",
    "   - 以 sep 分割成子字串，回傳子字串的 list\n",
    "   - maxsplit 為子字串最多的數量，maxspilt = -1是切割無限多刀的意思\n",
    "- `str.splitlines(keepends)`\n",
    "   - 以 \"\\n\" 和 \"\\r\" 作為分割字元，分割字串\n",
    "   - 以 list 型態回傳\n",
    "   - keepends 引數預設 False，設為True會連同脫逸字元一併回傳\n",
    "- `str.partition(sep)`\n",
    "   - 分割字串，但只會分割第一個符合 sep 引數的字元，形成 3-tuple\n",
    "   - str.partition() 是從左找到右，str.rpartition() 是從右找到左"
   ]
  },
  {
   "cell_type": "markdown",
   "metadata": {
    "colab_type": "text",
    "id": "fCgREodeoeMn"
   },
   "source": [
    "### 尋找子字串\n",
    "- `str.find(sub[,start[,end]])`\n",
    "   - 回傳 sub 第一次出現的索引值，若 sub 不在其中，則回傳 -1\n",
    "   - start 值與 end 值定義尋找的範圍\n",
    "- `str.index(sub[,start[,end]])`: \n",
    "   - 回傳 sub 第一次出現的索引值，若 sub 不在其中，則回傳 ValueError\n",
    "   - start 值與 end 值定義尋找的範圍"
   ]
  },
  {
   "cell_type": "markdown",
   "metadata": {
    "colab_type": "text",
    "id": "MjFQB_sQWbYD"
   },
   "source": [
    "### 其他\n",
    "- `str.count(sub[,start[,end]])`\n",
    "   - 計算 sub 出現的次數，並以 int 型態回傳，start 為起始計算索引值，end 為結束索引值\n",
    "- `str.replace(old,new[,count])`: \n",
    "   - 將str 中的 old 字串以 new 子字串代換\n",
    "   - 如果有給定 count 值，則只有被給定的 count 值所代表的 old 子字串會被替換掉\n",
    "- `string.zfill(width)`: 將 string 變數內的字串前面補 0，直到 string 變數的長度等於 width 引數設定的長度\n"
   ]
  },
  {
   "cell_type": "markdown",
   "metadata": {
    "colab_type": "text",
    "id": "dGOTDgWXqDOK"
   },
   "source": [
    "# join 與 split\n",
    "- join: \n",
    "   - 將 list 裡的許多字串轉換成單一字串\n",
    "   - `<字串分隔符號>.join(<某 list >)`\n",
    "- split: \n",
    "   - 將一字串一分割符號切割成許多子字串並存進 list 中\n",
    "   - `<字串>.split(<切割符號>)`"
   ]
  },
  {
   "cell_type": "markdown",
   "metadata": {
    "colab_type": "text",
    "id": "Ey4vinVIq8GQ"
   },
   "source": [
    "# 容器\n",
    "\n",
    "- tuple: 序對，在 ( ) 裡面可以放置一個以上的資料值，有順序性，不可更改其內容\n",
    "\n",
    "- list: 串列，在 [ ] 裡面可以放置一個以上的資料值，有順序性，可以更改其內容的型態\n",
    "\n",
    "- set: 集合，在 { } 裡面可以放置一個以上的資料值，類似集合的概念，所以內容無順序性\n",
    "\n",
    "- dict: 字典，在 { } 裡面可以放置一個以上的元素，是一種 Key-Value 的配對型別，而 key 就是用來存取每個相對應 value 的索引值\n",
    "\n",
    "\n",
    "\n"
   ]
  },
  {
   "attachments": {
    "count.PNG": {
     "image/png": "[encoded data removed]"
    }
   },
   "cell_type": "markdown",
   "metadata": {
    "colab_type": "text",
    "id": "ot8wK83yA5ky"
   },
   "source": [
    "## 序對 (tuple)\n",
    "\n",
    "- tuple 只有兩方法: index 跟 count\n",
    "- 字串可以count（要鎖定範圍，在範圍內計數）也可以find，tuple 只有 index跟count（只能接收單一值來做統計，沒辦法指定範圍）\n",
    "\n",
    "![count.PNG](attachment:count.PNG)\n",
    "\n",
    "- `str.count()` 跟 `tuple.count()` 能接受的參數就不太像\n",
    "   - str.count() 可以指定 index 範圍，在範圍內計數\n",
    "   - tuple.count() 只能接收單一值來做統計，沒辦法指定範圍\n",
    "- 可以當作字典(dict)的 key"
   ]
  },
  {
   "cell_type": "code",
   "execution_count": 3,
   "metadata": {
    "colab": {},
    "colab_type": "code",
    "id": "QDp1fz09iVce"
   },
   "outputs": [
    {
     "name": "stdout",
     "output_type": "stream",
     "text": [
      "4\n",
      "2\n"
     ]
    }
   ],
   "source": [
    "t = ('a','b','mary','john','a','mary','a','b')\n",
    "print(t.index('a',1,5))   # 在t的index1到5範圍中尋找'a'第一次出現的index值\n",
    "print(t.count('mary'))\n",
    "# print(t.count('b',0,5))   # tuple的count沒有辦法接收三個值"
   ]
  },
  {
   "cell_type": "markdown",
   "metadata": {
    "colab_type": "text",
    "id": "pXbKxyAiA6EZ"
   },
   "source": [
    "## 串列 (list)\n",
    "- tuple 跟 list 很相似\n",
    "- 差異在於 list 可以增加、刪除與修改，tuple 不行\n",
    "- 因為 tuple 不能修改，所以存取速度上，比 list 快"
   ]
  },
  {
   "cell_type": "markdown",
   "metadata": {},
   "source": [
    "### 回傳特定值\n",
    "- `list.pop(i)`: 將 list 裡面 index 為 i 的元素刪除並回傳。如果沒有給定 i 值，則刪除並回傳最後一個\n",
    "- `list.index(value,[start,[stop]])`: 查詢 list 當中第一個 value 出現的 index 值並回傳"
   ]
  },
  {
   "cell_type": "code",
   "execution_count": 11,
   "metadata": {},
   "outputs": [
    {
     "name": "stdout",
     "output_type": "stream",
     "text": [
      "6\n",
      "1\n",
      "[2, 3, 4, 5]\n",
      "1\n"
     ]
    }
   ],
   "source": [
    "st = [1,2,3,4,5,6]\n",
    "print(st.pop())\n",
    "print(st.pop(0))\n",
    "print(st)\n",
    "print(st.index(3))"
   ]
  },
  {
   "cell_type": "markdown",
   "metadata": {},
   "source": [
    "### 新增值到串列\n",
    "- `list.append(object)`: 在 list 的最後面加入 object\n",
    "   - python 裡所有東西都是物件，因此任何東西都可以被append到list裡\n",
    "- `list.extend(I)`: 將另一個具有順序的物件 I （例如list, tuple, str）附加在此 list 的最後面\n",
    "   - 與 += 功能相近\n",
    "   - 如果以 str 為參數傳入的話，會將 str 的每個字元拆開當作個別元素加到 list 的最後端\n",
    "- `list.insert(index,object)`: 將元素 object 插入在 index 值為 i 的位置"
   ]
  },
  {
   "cell_type": "markdown",
   "metadata": {},
   "source": [
    "### 刪除特定值\n",
    "- `list.remove(value)`: 將 list 裡面的第一個符合 value 之元素刪除\n",
    "- `list.clear()`: 將整個 list 清空  "
   ]
  },
  {
   "cell_type": "code",
   "execution_count": 1,
   "metadata": {},
   "outputs": [
    {
     "name": "stdout",
     "output_type": "stream",
     "text": [
      "[1, 2, 3]\n",
      "[1, 2, 3, 'apple']\n",
      "[1, 2, 3, 'apple', [77, 88, 99]]\n",
      "[1, 2, 3, 'apple', [77, 88, 99], 33, 44]\n",
      "[1, 2, 3, 'apple', [77, 88, 99], 33, 44, 'w', 'o', 'r', 'l', 'd']\n",
      "[1, 2, 3, 'apple', [77, 88, 99], 33, 44, 'w', 'o', 'r', 'l', 'd', 22, 66]\n",
      "['banana', 1, 2, 3, 'apple', [77, 88, 99], 33, 44, 'w', 'o', 'r', 'l', 'd', 22, 66]\n",
      "['banana', 1, 2, 3, 'apple', 33, 44, 'w', 'o', 'r', 'l', 'd', 22, 66]\n",
      "[]\n"
     ]
    }
   ],
   "source": [
    "st = [1,2,3]\n",
    "print(st)\n",
    "\n",
    "st.append('apple')\n",
    "print(st)\n",
    "st.append([77,88,99])\n",
    "print(st)\n",
    "\n",
    "st.extend([33,44])\n",
    "print(st)\n",
    "st.extend('world')\n",
    "print(st)\n",
    "st += [22,66]\n",
    "print(st)\n",
    "\n",
    "st.insert(0,'banana')\n",
    "print(st)\n",
    "\n",
    "st.remove([77,88,99])\n",
    "print(st)\n",
    "st.clear()\n",
    "print(st)"
   ]
  },
  {
   "cell_type": "markdown",
   "metadata": {},
   "source": [
    "### 重新排序後儲存\n",
    "- `list.sort([key=None],[reverse=False])`: 將 list 裡面的元素做排序並儲存\n",
    "   - 預設由小到大排序: reverse = False \n",
    "   - 令 reverse = True 時，則由大到小排序\n",
    "- `sorted(list)`: 類似list.sort()，但list.sort()會改變原本的內容，這個則不會\n",
    "- `list.reverse()`: 將 list 裡面的元素順序顛倒並儲存"
   ]
  },
  {
   "cell_type": "code",
   "execution_count": 15,
   "metadata": {},
   "outputs": [
    {
     "name": "stdout",
     "output_type": "stream",
     "text": [
      "['Book1', 'Book2', 'Book3', 'Book4', 'Book5', 'Book6']\n",
      "['Book6', 'Book5', 'Book4', 'Book3', 'Book2', 'Book1']\n",
      "['Book1', 'Book2', 'Book3', 'Book4', 'Book5', 'Book6']\n"
     ]
    }
   ],
   "source": [
    "shelf = ['Book1','Book2','Book6','Book4','Book5']\n",
    "shelf.append('Book3')\n",
    "shelf.sort()\n",
    "print(shelf)\n",
    "shelf.sort(reverse=True)\n",
    "print(shelf)\n",
    "shelf.reverse()\n",
    "print(shelf)"
   ]
  },
  {
   "cell_type": "markdown",
   "metadata": {},
   "source": [
    "### 合併與切割\n",
    "- `list1 = list2 + list3`: 將兩個 list 的內容相加 \n",
    "- `list.split()`: 切割"
   ]
  },
  {
   "cell_type": "markdown",
   "metadata": {},
   "source": [
    "### 其他\n",
    "- `list.count(value)`: 計算 list 中 value 出現的次數\n",
    "- `list.copy()`: 將 list 直接複製一份"
   ]
  },
  {
   "cell_type": "markdown",
   "metadata": {},
   "source": [
    "### enumerate\n",
    "- 可以一次性地將索引和值取出"
   ]
  },
  {
   "cell_type": "code",
   "execution_count": null,
   "metadata": {},
   "outputs": [],
   "source": [
    "st =[11,22,33]\n",
    "\n",
    "#不會改變原本內容\n",
    "for e in st:\n",
    "    print(e, end = '')\n",
    "    e = e + 10\n",
    "    print(e)\n",
    "\n",
    "#會改變原本內容\n",
    "for i in range(len(st)):\n",
    "    print(i, st[i])\n",
    "    st[i] = st[i] + 10\n",
    "    print(st[i])\n",
    "\n",
    "#不會改變原本內容\n",
    "for i, e in enumerate(st):\n",
    "    print(i,e)\n",
    "    e = e + 100\n",
    "    print(e)"
   ]
  },
  {
   "cell_type": "markdown",
   "metadata": {
    "colab_type": "text",
    "id": "stAxKU6BA6g5"
   },
   "source": [
    "## 字典 (dictionary)\n",
    "- 建立 dictionary 的四個方法:\n",
    "    - d1 = { 1 : 'a' , 2 : 'b' }\n",
    "    - d2 = dict ( { 1 : 'a', 2 :'b' } )\n",
    "    - d3 = dict ( zip ( ( 1, 2 ) , ('a', 'b' ) ) )\n",
    "    - d4 = dict ( [ [2, 'b'],[1, 'a'] ] )"
   ]
  },
  {
   "cell_type": "markdown",
   "metadata": {},
   "source": [
    "### 取值、新增、刪除\n",
    "- `d[x]`: 從 d 中取得 x 所對應的值\n",
    "- `dict.pop()`: 括號中要放key，不是位置\n",
    "- `dict.keys()`\n",
    "- `dict.values()`\n",
    "- `d[x] = y`: 將 d 中 x 所對應的值指定為 y\n",
    "- `del d[x]`: 刪除 d 中 x 所屬的組合\n"
   ]
  },
  {
   "cell_type": "markdown",
   "metadata": {},
   "source": [
    "### 判斷\n",
    "- `x in d`: 判斷 x 是否在 d 的 key 值中\n",
    "- `x not in d`: 判斷 x 是否不在 d 的 key 值中"
   ]
  },
  {
   "cell_type": "markdown",
   "metadata": {},
   "source": [
    "### 其他\n",
    "- `iter(d)`: 回傳由 d 的 key 值所建立的迭代器\n",
    "- `len(d)`: 回傳 d 的資料組數\n",
    "- `dict.clear()`\n",
    "- `dict.copy()`"
   ]
  },
  {
   "cell_type": "markdown",
   "metadata": {
    "colab_type": "text",
    "id": "HqclqKfNA6-p"
   },
   "source": [
    "## 集合 (set)"
   ]
  },
  {
   "cell_type": "markdown",
   "metadata": {},
   "source": [
    "### 取值、新增、刪除\n",
    "- `set.pop()`\n",
    "- `set.add(e)`\n",
    "- `set.remove(e); set.discard(e)`: 將 e 從 set 中捨棄\n",
    "\n",
    "註: `set.remove(e)` 與 `set.discard(e)` 的差別是如果所傳入的參數不在 set 裡面時，`set.remove(e)` 會回傳 KeyError，而 `set.discard(e)` 則不會做任何回傳"
   ]
  },
  {
   "cell_type": "markdown",
   "metadata": {},
   "source": [
    "### 差集、交集、聯集、互異\n",
    "- `set.difference(set2); set-set2`: 將兩個 set 作**差集**運算，並回傳一個新的 set\n",
    "- `set.difference_update(set2)`: 將兩個 set 作**差集**運算，並將結果更新到 set\n",
    "- `set.intersection(set2); set & set2`: 將兩個 set 作**交集**運算，並回傳一個新的 set\n",
    "- `set.intersectione_update(set2)`: 將兩個 set 作**交集**運算，並將結果更新到 set\n",
    "- `set.union(set2); set|set2`: 將兩個 set 作**聯集**運算，並回傳一個新的 set\n",
    "- `set.update(set2)`: 將兩個 set 作**聯集**運算，並將結果更新到 set\n",
    "- `set.symmetric_difference(set2); set^set2`: 將兩個 set 作**互異**運算，並回傳一個新的 set\n",
    "- `set.symmetric_difference_update(set2)`: 將兩個 set 作**互異**運算，並將結果更新到 set"
   ]
  },
  {
   "cell_type": "markdown",
   "metadata": {},
   "source": [
    "### 判斷\n",
    "- `set.issubset(set2); set <= set2`: 判斷 set 是否為 set2 的子集合，回傳 bool 值\n",
    "- `set.issuperset(set2); set >= set2`: 判斷 set2 是否為 set 的子集合，回傳 bool 值"
   ]
  },
  {
   "cell_type": "markdown",
   "metadata": {},
   "source": [
    "### 其他\n",
    "- `set.clear()`\n",
    "- `set.copy()`"
   ]
  },
  {
   "cell_type": "markdown",
   "metadata": {},
   "source": [
    "# 推導式\n",
    "- 列表(list)推導式\n",
    "    - `variable = [out_exp_res for out_exp in input_list if out_exp == 2]`\n",
    "        - out_exp_res:列表生成元素表示式，可以是有返回值的函式。\n",
    "        - for out_exp in input_list：迭代input_list將out_exp傳入out_exp_res表示式中。\n",
    "        - if out_exp == 2：根據條件過濾哪些值可以。\n",
    "- 字典(dict)推導式\n",
    "    - 字典推導和列表推導的使用方法是類似的，只不中括號該改成大括號\n",
    "- 集合(set)推導式\n",
    "    - 跟列表推導式也是類似的。 唯一的區別在於它使用大括號{ }"
   ]
  },
  {
   "cell_type": "code",
   "execution_count": null,
   "metadata": {},
   "outputs": [],
   "source": [
    "# 列表推導式\n",
    "list_case = [x*x for x in range(10) if x % 3 == 0]\n",
    "print(list_case)\n",
    "\n",
    "'''\n",
    "相當於下面這段程式碼\n",
    "list_case = []\n",
    "for x in range(10):\n",
    "    if x % 3 == 0:\n",
    "        list_case.append(x*x)\n",
    "print(list_case)        \n",
    "'''"
   ]
  },
  {
   "cell_type": "code",
   "execution_count": 9,
   "metadata": {},
   "outputs": [
    {
     "name": "stdout",
     "output_type": "stream",
     "text": [
      "{10: 'a', 34: 'b'}\n"
     ]
    }
   ],
   "source": [
    "# 字典推導式\n",
    "dic_case = {'a': 10, 'b': 34}\n",
    "dic_case_frequency = {v: k for k, v in dic_case.items()}\n",
    "print(dic_case_frequency)"
   ]
  },
  {
   "cell_type": "code",
   "execution_count": 10,
   "metadata": {},
   "outputs": [
    {
     "name": "stdout",
     "output_type": "stream",
     "text": [
      "{1, 4}\n"
     ]
    }
   ],
   "source": [
    "# 集合推導式\n",
    "set_case = {x**2 for x in [1, 1, 2]}\n",
    "print(set_case)"
   ]
  },
  {
   "cell_type": "markdown",
   "metadata": {},
   "source": [
    "# function(函式、函數)\n",
    "\n",
    "- [內建函數](https://docs.python.org/3/library/functions.html)\n",
    "- 自訂函數\n",
    "   - 包含許多程式碼的一行程式\n",
    "   - 適用於程式碼多且會重複使用，則可以將部分程式碼抽離主程式，寫成一段函式，有需要用到再去呼叫它，避免同段程式碼要一直重複寫\n",
    "   - 定義函數使用關鍵字(keyword) def 開始，其後空一格接函數的識別字(identifier)名稱加小括號，然後冒號，並且內容要縮排，如果要回傳給呼叫者值，則需使用 return\n",
    "       - ```python\n",
    "       def function_name(filename):\n",
    "       ...\n",
    "       return ...\n",
    "       ```"
   ]
  },
  {
   "cell_type": "code",
   "execution_count": 1,
   "metadata": {},
   "outputs": [
    {
     "name": "stdout",
     "output_type": "stream",
     "text": [
      "9\n",
      "362880\n"
     ]
    }
   ],
   "source": [
    "# 練習 1: 試寫另一函式可回傳 1 乘到 n 的結果\n",
    "def fact(n):\n",
    "    total = 1\n",
    "    for i in range (1,n+1):\n",
    "        total *= i\n",
    "    return total\n",
    "\n",
    "n1 = int(input())\n",
    "ans = fact(n1)\n",
    "print(ans)"
   ]
  },
  {
   "cell_type": "markdown",
   "metadata": {},
   "source": [
    "## 不定個數參數\n",
    "- 可以再參數列提供任意長度的參數個數 \n",
    "- `*arguments`: 就是參數識別字前面加上一個星號，當成一組序對\n",
    "- `**keywords`: 參數識別字前面加上兩個星號，當成一組字典"
   ]
  },
  {
   "cell_type": "code",
   "execution_count": 3,
   "metadata": {},
   "outputs": [
    {
     "name": "stdout",
     "output_type": "stream",
     "text": [
      "Hello, Tom.\n",
      "Hello, Peter.\n",
      "Hello, Bob.\n",
      "Hello, Rain.\n"
     ]
    }
   ],
   "source": [
    "def hello(*names):\n",
    "    for n in names:\n",
    "        print(\"Hello, %s.\"%n)\n",
    "hello(\"Tom\",\"Peter\",\"Bob\",\"Rain\")"
   ]
  },
  {
   "cell_type": "code",
   "execution_count": 4,
   "metadata": {},
   "outputs": [
    {
     "name": "stdout",
     "output_type": "stream",
     "text": [
      "Hello John, you are 25 years old\n",
      "Hello Tom, you are 20 years old\n",
      "Hello Bob, you are 33 years old\n"
     ]
    }
   ],
   "source": [
    "def hello(**names):\n",
    "    for n in names:\n",
    "        print(\"Hello\",n,end = ', ')\n",
    "        print(\"you are\", names[n],\"years old\")\n",
    "hello(John = 25, Tom = 20, Bob = 33)"
   ]
  },
  {
   "cell_type": "markdown",
   "metadata": {},
   "source": [
    "## 傳遞容器參數"
   ]
  },
  {
   "cell_type": "code",
   "execution_count": 2,
   "metadata": {},
   "outputs": [
    {
     "name": "stdout",
     "output_type": "stream",
     "text": [
      "before call: 10\n",
      "before change: 10\n",
      "after change: 999\n",
      "after call: 10\n"
     ]
    }
   ],
   "source": [
    "def passValue(args):\n",
    "    print('before change:',args)\n",
    "    args = 999\n",
    "    print('after change:',args)\n",
    "    \n",
    "num = 10\n",
    "print('before call:',num)\n",
    "passValue(num)\n",
    "print('after call:',num)"
   ]
  },
  {
   "cell_type": "code",
   "execution_count": null,
   "metadata": {},
   "outputs": [],
   "source": [
    "def passList(lst):\n",
    "    print('before sort:',lst)\n",
    "    lst.sort()\n",
    "    print('after sort:',lst)\n",
    "    \n",
    "list1 = [44,63,7,22,5,1]\n",
    "print('before call:',list1)\n",
    "passList(list1)\n",
    "print('after call:',list1)"
   ]
  },
  {
   "cell_type": "markdown",
   "metadata": {},
   "source": [
    "## 函數YIELD產生器\n",
    "- 如果使用 return ，函數會直接回傳數值，也隨之終止函數執行\n",
    "- 若使用 yield ，可使用函數產生數值，而不會結束函數執行，這樣的函數被稱為產生器函數(generator function)"
   ]
  },
  {
   "cell_type": "code",
   "execution_count": 5,
   "metadata": {},
   "outputs": [
    {
     "name": "stdout",
     "output_type": "stream",
     "text": [
      "<generator object gen at 0x000001FDC34CE7C8>\n",
      "In func 1\n",
      "In func 2\n",
      "In func 3\n",
      "In func 4\n",
      "In func 5\n",
      "In func 6\n",
      "In func 7\n",
      "In func 8\n",
      "In func 9\n",
      "In func 10\n",
      "[1, 2, 3, 4, 5, 6, 7, 8, 9, 10]\n"
     ]
    }
   ],
   "source": [
    "def gen(n):\n",
    "    for i in range(1,n+1):\n",
    "        print('In func',i)\n",
    "        #return i\n",
    "        yield i\n",
    "print(gen(10))\n",
    "print(list(gen(10)))"
   ]
  },
  {
   "cell_type": "markdown",
   "metadata": {},
   "source": [
    "## 全域變數與區域變數\n",
    "- 全域變數(global variable)\n",
    "   - 變數的有效時間一直到程式結束為止\n",
    "- 區域變數(local variable)\n",
    "   - 使用範圍僅限於函數的區塊內\n",
    "- nonlocal變數\n",
    "   - 可以指明變數並非區域變數\n",
    "   - 依 函式（Local functon）=> 外包涵式（Endosing function）=> 全域（Global）=> 內建（Builtin）的順序來尋找\n",
    "- 程式中區域變數與全域變數的名稱相同，當存取函數內的變數時，會以區域變數為優先，使用時最好注意，建議全域變數最好不要和區域變數的名稱重複，以免參用時造成混淆"
   ]
  },
  {
   "cell_type": "code",
   "execution_count": 6,
   "metadata": {},
   "outputs": [
    {
     "name": "stdout",
     "output_type": "stream",
     "text": [
      "global a 10\n",
      "inner a = 11\n",
      "outer a = 11\n",
      "global a 11\n"
     ]
    }
   ],
   "source": [
    "# 全域變數範例\n",
    "def outer(a):\n",
    "    def inner():\n",
    "        global a \n",
    "        a += 1\n",
    "        print(\"inner a =\",a)\n",
    "    a += 1\n",
    "    inner()\n",
    "    print(\"outer a =\",a)\n",
    "    \n",
    "a = 10\n",
    "print(\"global a\",a)\n",
    "outer(a)\n",
    "print(\"global a\",a)"
   ]
  },
  {
   "cell_type": "code",
   "execution_count": 10,
   "metadata": {},
   "outputs": [
    {
     "name": "stdout",
     "output_type": "stream",
     "text": [
      "global a = 10\n",
      "inner a = 12\n",
      "outer a = 12\n",
      "global a = 10\n"
     ]
    }
   ],
   "source": [
    "# nonlocal 變數範例\n",
    "def outer(a): #這時inner()裡的 a 是上一層的 a，也就是 outer()的 a \n",
    "    def inner():\n",
    "        nonlocal a \n",
    "        a += 1 # 此時改變了 a，並送回 outer(a)\n",
    "        print(\"inner a =\", a)     \n",
    "    a += 1\n",
    "    inner()\n",
    "    print(\"outer a =\", a)\n",
    " \n",
    "a = 10\n",
    "print(\"global a =\", a)\n",
    "outer(a)\n",
    "print(\"global a =\", a)"
   ]
  },
  {
   "cell_type": "markdown",
   "metadata": {},
   "source": [
    "## LAMBDA 函式\n",
    "- 適用於用完即丟的的函數"
   ]
  },
  {
   "cell_type": "code",
   "execution_count": 12,
   "metadata": {},
   "outputs": [
    {
     "name": "stdout",
     "output_type": "stream",
     "text": [
      "6\n",
      "6\n"
     ]
    }
   ],
   "source": [
    "def func1(x,y,z):\n",
    "    return x + y + z\n",
    "print(func1(1,2,3))\n",
    "\n",
    "func2 = lambda x,y,z : x + y + z\n",
    "print(func2(1,2,3))"
   ]
  },
  {
   "cell_type": "code",
   "execution_count": 14,
   "metadata": {},
   "outputs": [
    {
     "data": {
      "text/plain": [
       "[1, 4, 9]"
      ]
     },
     "execution_count": 14,
     "metadata": {},
     "output_type": "execute_result"
    }
   ],
   "source": [
    "# lambda 也可以應用在 map 上\n",
    "# map(func, *iterables)\n",
    "my_list = [1,2,3]\n",
    "list(map(lambda i: i * i, my_list))"
   ]
  },
  {
   "cell_type": "markdown",
   "metadata": {},
   "source": [
    "# 模組\n",
    "- 就是保存了程式碼的.py檔，裡面可能定義了函數、類別、變數等內容\n",
    "- 在需要時，藉由import指令來匯入現在所編輯的程式中使用\n",
    "- 分成內建模組、自訂模組、第三方模組\n",
    "- 用`pip install pypng(套件名稱)`來安裝模組\n",
    "- 匯入模組的指令:\n",
    "   - `import module`\n",
    "      - 可以用逗號分隔，一次匯入多個模組\n",
    "      - 模組名稱太長時，會用 import ... as ...，來縮短其模組在程式裡的名稱，但並不會改變原本的名稱。通常每個模組都會有其固定的縮寫e.g. import numpy as np\n",
    "   - `from modname import name1`\n",
    "      - 匯入某個模組裡面的某個函數\n",
    "- 匯入模組時，若出現找不到模組的警告，可以用以下程式碼印出路徑\n",
    "  ```python \n",
    "     import sys\n",
    "     print(sys.path)```\n",
    "  如果沒有在路徑中，則需要用`sys.path.append()`加入新路徑"
   ]
  },
  {
   "cell_type": "markdown",
   "metadata": {},
   "source": [
    "## TIME 模組\n",
    "- `time.time()`: 取得系統時間\n",
    "- `time.sleep(num)`: 設定暫停時間\n",
    "- `time.localtime()`: 回傳格式\n",
    "- `time.strftime(TimeFormat)`: 格式化輸出時間\n",
    "- `time.gmtime()`: 取得UTC世界標準時間"
   ]
  },
  {
   "cell_type": "markdown",
   "metadata": {},
   "source": [
    "Time 模組練習\n",
    "- 定義一函式 GetTime 可以回傳呼叫 / 現在時間\n",
    "- 令呼叫函式可自訂輸出時間格式\n",
    "\n"
   ]
  },
  {
   "cell_type": "code",
   "execution_count": 27,
   "metadata": {},
   "outputs": [
    {
     "name": "stdout",
     "output_type": "stream",
     "text": [
      "(2019, 5, 8, 14, 46, 21)\n"
     ]
    }
   ],
   "source": [
    "# 把以下程式碼儲存到稱為 MyTime 的.py檔中\n",
    "'''\n",
    "def GetTime (args):\n",
    "    import time\n",
    "    t = time.localtime(time.time())\n",
    "    Y = t.tm_year\n",
    "    m = t.tm_mon\n",
    "    d = t.tm_mday\n",
    "    H = t.tm_hour\n",
    "    M = t.tm_min\n",
    "    S = t.tm_sec\n",
    "    return Y,m,d,H,M,S\n",
    "'''\n",
    "# 需要模組時，再 import\n",
    "import MyTime\n",
    "print(MyTime.GetTime('%Y-%m-%d %H:%M:%S'))"
   ]
  },
  {
   "cell_type": "markdown",
   "metadata": {},
   "source": [
    "## RANDOM 模組\n",
    "- `random.randint(start,stop)`: 隨機取整數\n",
    "- `random.randrange(start,stop,step)`\n",
    "- `random.random(); random.uniform(start,stop)`: 隨機浮點數\n",
    "- `random.choice()`: 隨機字元、字串\n",
    "- `random.sample()`: 多個字元中選取特定數量的字元\n",
    "- `random.shuffle()`: 洗牌"
   ]
  },
  {
   "cell_type": "code",
   "execution_count": 35,
   "metadata": {},
   "outputs": [
    {
     "name": "stdout",
     "output_type": "stream",
     "text": [
      "52\n",
      "92\n",
      "0.12652384781617132\n",
      "9.19266894575029\n",
      "b\n",
      "['e', 'j', 'c']\n",
      "pear\n",
      "[5, 1, 4, 6, 2, 3]\n"
     ]
    }
   ],
   "source": [
    "import random\n",
    "print(random.randint(0,100))\n",
    "print(random.randrange(0,100,2))\n",
    "\n",
    "print(random.random())\n",
    "print(random.uniform(1,10))\n",
    "\n",
    "print(random.choice('abcdefg&#%^*h'))\n",
    "print(random.sample('abcdefghij',3))\n",
    "print(random.choice(['apple','pear','peach','orange','lemon']))\n",
    "\n",
    "items = [1,2,3,4,5,6]\n",
    "random.shuffle(items)\n",
    "print(items)"
   ]
  },
  {
   "cell_type": "markdown",
   "metadata": {},
   "source": [
    "Random 模組練習\n",
    "- 建樂透模擬器\n",
    "- 讓程式倒數三秒後，產生六個樂透號碼，一個特別號"
   ]
  },
  {
   "cell_type": "code",
   "execution_count": 37,
   "metadata": {},
   "outputs": [
    {
     "name": "stdout",
     "output_type": "stream",
     "text": [
      "抽獎開始，倒數三秒\n",
      "3\n",
      "2\n",
      "1\n",
      "樂透號碼為: [25, 8, 35, 27, 34, 46]\n",
      "特別號為: 20\n"
     ]
    }
   ],
   "source": [
    "import time, random\n",
    "print(\"抽獎開始，倒數三秒\")\n",
    "for i in range(3,0,-1):\n",
    "    print(i)\n",
    "    time.sleep(1)\n",
    "\n",
    "res = random.sample(range(1,50),7)\n",
    "print(\"樂透號碼為:\",res[:6])\n",
    "print(\"特別號為:\",res[6])\n"
   ]
  },
  {
   "cell_type": "markdown",
   "metadata": {},
   "source": [
    "## SYS 模組\n",
    "- `sys.argv[0]`\n",
    "   - 會回傳此程式檔案的位置與名稱\n",
    "   - 數字代入 1 以上則是檔案傳入參數\n",
    "- `len(sys.argv)>1`: 判斷是否有帶入參數\n",
    "- `sys.builtin_module_names`: 回傳 Python 程式語言內所有內置模組名稱\n",
    "- `sys.modules.keys()`: 得知目前已經載入的模組\n",
    "- `sys.platform`: 取得目前作業系統的版本\n",
    "- `sys.exit()`: 宣告 sys.exit(0) 終止程式\n",
    "- `sys.version`: 回傳目前安裝在系統上的 Python 版本\n",
    "- `sys.api_version`: 回傳 Python 直譯器的 C API 版本\n",
    "- `sys.version_info`: 回傳一個 tuple 型態的值\n",
    "- `sys.winver`: 回傳的版本數字是註冊在 windows 裡的 Python 版本\n",
    "- `sys.path`: 定義 Python 搜尋模組的路徑"
   ]
  },
  {
   "cell_type": "markdown",
   "metadata": {},
   "source": [
    "## OS 模組: 顯示系統環境參數與指令功能函數\n",
    "- `os.chdir(path)`: 切換目錄到 path 引數位置\n",
    "- `os.getcwd()`: 顯示目前所在的目錄位置\n",
    "- `os.mkdir(path[,mode])`: 建立資料夾\n",
    "- `os.rmdir(path)`: 刪除目錄\n",
    "- `os.path.getsize(path)`: 取得檔案大小\n",
    "- `os.path.getctime(path)`: 取得檔案的建立日期\n",
    "- `os.path.getmtime(path)`: 取得檔案的修改日期\n",
    "- `os.path.getatime(path)`: 取得檔案的存取日期\n",
    "- `os.path.isfile(path)`: 判斷傳入的 path 引數是否為檔案\n",
    "- `os.path.isdir(path)`: 判斷傳入的 path 引數是否為目錄\n",
    "- `os.path.exists(path)`: 判斷傳入的 path 引數目錄或檔案是否存在\n",
    "- `os.system(\"...\")`\n",
    "   - 執行 Command line 命令\n",
    "   - os.system(\"pause\")\n",
    "- `os.rename(src,dst)`: \n",
    "   - 對檔案或目錄更換名稱\n",
    "   - src 引數是原本的資料夾\n",
    "   - dst 引數是修改後的資料夾名稱\n",
    "- `os.remove(path)`: 移除檔案\n",
    "- `os.removedirs(path); os.rmdir(path)`: 移除空的資料夾\n",
    "- `os.listdir(path)`: 輸出 path 引數位置的目錄和檔案名稱"
   ]
  },
  {
   "cell_type": "markdown",
   "metadata": {},
   "source": [
    "## SHUTIL 模組: high-level file operations\n",
    "- `shutil.copytree(src,dst)`: 複製整個目錄，包含目錄內的所有檔案\n",
    "- `shutil.copy(src,dst)`: 複製檔案\n",
    "- `shutil.rmtree(path)`: 移除整個目錄，包含目錄內的所有檔案\n",
    "- `shutil.move(src,dst)`: 移動檔案，移動時也可以進行更換檔案名稱\n",
    "- `shutil.copystat(src,dst)`: 複製檔案，會連同檔案屬性一同複製"
   ]
  },
  {
   "cell_type": "markdown",
   "metadata": {},
   "source": [
    "## 常見的套件簡介"
   ]
  },
  {
   "cell_type": "markdown",
   "metadata": {},
   "source": [
    "### 網站框架套件\n",
    "- Django: 完整強大的 Web 框架 \n",
    "- Pyramid: 另一個完整強大的 Web 框架\n",
    "- web2py: Google app engine 預設使用的框架\n",
    "- flask: 相較而言是輕量的網站框架"
   ]
  },
  {
   "cell_type": "markdown",
   "metadata": {},
   "source": [
    "### 影像、圖片處理\n",
    "- PIL:Python Imaging Library，最有名的影像處理套件，由許多不同的模組組成  \n",
    "- Pillow: PIL 的 fork 版本，另一套圖形處理的套件\n",
    "- OpenCV: 知名影像處理函式庫的 Python 版本"
   ]
  },
  {
   "cell_type": "markdown",
   "metadata": {},
   "source": [
    "### 科學計算\n",
    "- Numpy: 支援許多科學計算，包含矩陣運算、線性代數、傅立葉轉換等\n",
    "- Scipy: 提供最佳化、線性代數、訊號處理和圖像處理、常微分方程式求解等工程中常用的計算功能\n",
    "- Matplotlib: 可以畫出各種圖形如長條圖、分布圖、立體圖等...\n",
    "- pandas: 提供處理特殊資料結構，具有數據處理與資料分析的功能\n",
    "- scikit-learn: 機器學習的套件，包含內建的分群分類計算、回歸、統計等功能"
   ]
  },
  {
   "cell_type": "markdown",
   "metadata": {},
   "source": [
    "### 網路爬蟲\n",
    "- Scrapy: Python 爬蟲框架，可以輕易的與 Django 合作\n",
    "- Requests: 發送網路請求，抓取網頁文件"
   ]
  },
  {
   "cell_type": "markdown",
   "metadata": {},
   "source": [
    "### 文件解析器\n",
    "- Beautifulsoup: 可以處理 HTML、XML 等標記格式\n",
    "- lxml: 可以處理 HTML、XML 等標記格式，並用 xpath 選取內容"
   ]
  },
  {
   "cell_type": "markdown",
   "metadata": {},
   "source": [
    "### 命令列操作及遠端登入\n",
    "- fabric: 可以直接撰寫 shell 命令，透過 fabric 執行，也支援遠端登入和自定義 shell 命令\n",
    "- paramiko: 提供遠端登入和部分指令呼叫的功能"
   ]
  },
  {
   "cell_type": "markdown",
   "metadata": {},
   "source": [
    "# 檔案處理\n",
    "- 先用`open()`開檔，接著要執行的動作至少有讀檔、寫檔與關檔，分別為`read()`、`write()`、`close()`\n",
    "- 開啟檔案: `file = open(file_name[,access_mode][,buffering])`\n",
    "   - file_name: 就是想開啟的檔案，其中也包含了檔案的路徑，如果要開啟的檔案跟程式碼在同一資料夾，就可以不包含路徑\n",
    "   - access_mode: 想要存取的模式\n",
    "      - r: 以唯讀方式打開文件。文件游標將會放在文件的開頭。預設模式。\n",
    "      - r+: 用於讀寫。文件游標將會放在文件的開頭。\n",
    "      - w: 功能只限定於寫入。如果該文件已存在則將其覆蓋。如果該文件不存在，創建新文件。\n",
    "      - w+: 能夠讀寫。如果該文件已存在則將其覆蓋。如果該文件不存在，創建新文件。\n",
    "      - a: 功能限定為追加資料。文件游標會放在文件的結尾，新的內容將會被寫入到已有內容之後。如果該文件不存在，創建新文件進行寫入。\n",
    "      - a+: 能夠讀寫。文件游標將會放在文件的結尾。文件打開時會是追加模式。如果該文件不存在，創建新文件用於讀寫。\n",
    "      - rb: 以唯讀方式打開文件(二進制格式)。文件游標將會放在文件的開頭。預設模式。\n",
    "      - rb+: 以二進制格式打開一個文件用於讀寫。文件游標將會放在文件的開頭。\n",
    "      - wb: (二進位格式)功能只限定於寫入。如果該文件已存在則將其覆蓋。如果該文件不存在，創建新文件。\n",
    "      - wb+: (二進位格式)能夠讀寫。如果該文件已存在則將其覆蓋。如果該文件不存在，創建新文件。\n",
    "      - ab: (二進位格式)且功能限定為追加資料。文件游標會放在文件的結尾，新的內容將會被寫入到已有內容之後。如果該文件不存在，創建新文件進行寫入。\n",
    "      - ab+: (二進位格式)功能限定為追加資料。如果文件已存在，文件游標將會放在文件的結尾。如果該文件不存在，創建新文件並且能夠讀寫。\n",
    "   - buffering: 資料讀入的暫存空間\n",
    "      - 0: 沒有暫存空間\n",
    "      - 大於或等於1: 有暫存空間及一次可讀入多少資料量\n",
    "      - -1: 表示會用預設的暫存區大小來暫存所讀入的資料內容\n",
    "- 從檔案讀進資料\n",
    "   - `file.read()`: 一次讀取整份文件，通常將整份文件的文字放在一個string裡，所以對文件中「行」的概念處理起來相當麻煩，因此並不常用。\n",
    "   - `file.readline()`: 一次讀取整份文件後，將文件依行為單位存成 list，接下來就可以使用 for 迴圈進行處理。\n",
    "   - `file.readlines()`: 一次只讀取一行，會比較慢。如果記憶體的空間足夠，建議使用此方法。\n",
    "- 將結果存入檔案\n",
    "   - `file.write()`: 可將任何字串寫入目前已經被打開的檔案中，在字串結尾如果要換行必須自行加上分行的符號。\n",
    "   - `file.writeline()`: 輸入完之後會換行。\n",
    "   - `file.writelines()`: 將 list 當作輸入參數，以 list 的資料型態將資料寫入檔案。當 list 中每個元素被寫入後，並不會自動換行。"
   ]
  },
  {
   "cell_type": "markdown",
   "metadata": {},
   "source": [
    "# 例外: try...except\n",
    "- 對於可預防的錯誤，另外寫程式來預防程式終止\n",
    "- 使用try...except，至少要存在一個 except 敘述，else: 跟 finally: 則可有可無\n",
    "- 程式碼運行邏輯:\n",
    "   - 如果當 try 裡面的程式碼執行時發生異常，Python 就跳回到 try 的起始位置，並執行第一個符合該異常的 except 敘述。等異常處理完畢後，程式流程就算執行完整個 try 區塊中的程式碼，除非在處理異常時又引發新的異常，又沒有匹配的 except 敘述，異常將被轉送到上一層的 try 區塊處理，或是到程式的最上層，並結束程式、印出錯誤。\n",
    "   - 如果在 try 的程式碼執行並無引發異常，如果有else:的區塊內容的話，Python便會去執行else:區塊內部的程式碼\n",
    "   - 最後執行finally:區塊內部的程式碼，如此便算順利執行完整個try...except指令區(不管有沒有異常，都會執行)\n",
    "- 如果沒有加上錯誤的類型，則所產生任何錯誤都會被歸類到某個特定的 except 語句來處理。\n",
    "   - 好處是沒有錯誤會被遺漏，程式一定可以正常執行完畢\n",
    "   - 壞處是無法得知發生甚麼錯誤，因此不建議把錯誤類型留白"
   ]
  },
  {
   "cell_type": "code",
   "execution_count": 1,
   "metadata": {},
   "outputs": [
    {
     "name": "stdout",
     "output_type": "stream",
     "text": [
      "10/3=3.333\n",
      "10/2=5.000\n",
      "10/1=10.000\n"
     ]
    },
    {
     "ename": "ZeroDivisionError",
     "evalue": "division by zero",
     "output_type": "error",
     "traceback": [
      "\u001b[1;31m---------------------------------------------------------------------------\u001b[0m",
      "\u001b[1;31mZeroDivisionError\u001b[0m                         Traceback (most recent call last)",
      "\u001b[1;32m<ipython-input-1-6f94506b8eff>\u001b[0m in \u001b[0;36m<module>\u001b[1;34m\u001b[0m\n\u001b[0;32m      1\u001b[0m \u001b[0mi\u001b[0m \u001b[1;33m=\u001b[0m \u001b[1;36m10\u001b[0m\u001b[1;33m\u001b[0m\u001b[1;33m\u001b[0m\u001b[0m\n\u001b[0;32m      2\u001b[0m \u001b[1;32mfor\u001b[0m \u001b[0mj\u001b[0m \u001b[1;32min\u001b[0m \u001b[0mrange\u001b[0m\u001b[1;33m(\u001b[0m\u001b[1;36m3\u001b[0m\u001b[1;33m,\u001b[0m\u001b[1;33m-\u001b[0m\u001b[1;36m4\u001b[0m\u001b[1;33m,\u001b[0m\u001b[1;33m-\u001b[0m\u001b[1;36m1\u001b[0m\u001b[1;33m)\u001b[0m\u001b[1;33m:\u001b[0m\u001b[1;33m\u001b[0m\u001b[1;33m\u001b[0m\u001b[0m\n\u001b[1;32m----> 3\u001b[1;33m     \u001b[0mprint\u001b[0m\u001b[1;33m(\u001b[0m\u001b[1;34m'%d/%d=%0.3f'\u001b[0m\u001b[1;33m%\u001b[0m\u001b[1;33m(\u001b[0m\u001b[0mi\u001b[0m\u001b[1;33m,\u001b[0m\u001b[0mj\u001b[0m\u001b[1;33m,\u001b[0m\u001b[0mi\u001b[0m\u001b[1;33m/\u001b[0m\u001b[0mj\u001b[0m\u001b[1;33m)\u001b[0m\u001b[1;33m)\u001b[0m\u001b[1;33m\u001b[0m\u001b[1;33m\u001b[0m\u001b[0m\n\u001b[0m",
      "\u001b[1;31mZeroDivisionError\u001b[0m: division by zero"
     ]
    }
   ],
   "source": [
    "# 錯誤\n",
    "i = 10\n",
    "for j in range(3,-4,-1):\n",
    "    print('%d/%d=%0.3f'%(i,j,i/j))"
   ]
  },
  {
   "cell_type": "code",
   "execution_count": 2,
   "metadata": {},
   "outputs": [
    {
     "name": "stdout",
     "output_type": "stream",
     "text": [
      "10/3=3.333\n",
      "10/2=5.000\n",
      "10/1=10.000\n",
      "除數為0，無法進行除法\n",
      "10/-1=-10.000\n",
      "10/-2=-5.000\n",
      "10/-3=-3.333\n"
     ]
    }
   ],
   "source": [
    "# 用例外修正錯誤\n",
    "i = 10\n",
    "for j in range(3,-4,-1):\n",
    "    try:\n",
    "        print('%d/%d=%0.3f'%(i,j,i/j))\n",
    "    except ZeroDivisionError:\n",
    "        print('除數為0，無法進行除法')"
   ]
  },
  {
   "cell_type": "code",
   "execution_count": 3,
   "metadata": {},
   "outputs": [
    {
     "name": "stdout",
     "output_type": "stream",
     "text": [
      "進入 try 區塊\n",
      "10/5=2.0\n",
      "10/4=2.5\n",
      "10/3=3.3333333333333335\n",
      "10/2=5.0\n",
      "10/1=10.0\n",
      "10/0=發生錯誤，進入 except 區塊\n",
      "(except)i=0\n",
      "進入 finally 區塊\n",
      "(finally)i=0\n"
     ]
    }
   ],
   "source": [
    "# try...except...else...finally 連用的範例\n",
    "try:\n",
    "    print(\"進入 try 區塊\")\n",
    "    for i in range(5,-5,-1):\n",
    "        print(\"10/\"+str(i)+\"=\",end=\"\")\n",
    "        print(str(10/i))\n",
    "except:\n",
    "    print(\"發生錯誤，進入 except 區塊\")\n",
    "    print(\"(except)i=\"+str(i))\n",
    "else: \n",
    "    print(\"沒有錯誤，進入 else 區塊\")\n",
    "    print(\"(else)i=\"+str(i))\n",
    "finally:\n",
    "    print(\"進入 finally 區塊\")\n",
    "    print(\"(finally)i=\"+str(i))"
   ]
  },
  {
   "cell_type": "markdown",
   "metadata": {},
   "source": [
    "## 常見的錯誤名稱\n",
    "- BaseException: 所有異常的基礎類型\n",
    "- SystemExit: Python 編譯器請求退出\n",
    "- KeyboardInterrupt: 用戶中斷執行(通常是輸入^C)\n",
    "- Exception: 常規錯誤的基礎類型\n",
    "- StopIteration: 迭代器沒有更多的值\n",
    "- GeneratorExit: generator 發生異常來通知退出\n",
    "- StandardError: 所有的內建標準異常的基礎類型\n",
    "- 運算錯誤\n",
    "    - ArithmeticError: 所有數值計算錯誤的基礎類型\n",
    "    - FloatingPointError: 浮點計算錯誤\n",
    "    - OverflowError: 數值運算超出最大限制\n",
    "    - ZeroDivisionError: 除(或取餘數)零(所有資料類型)\n",
    "- AssertionError: 斷言語句失敗\n",
    "- AttributeError: 物件沒有這個屬性\n",
    "- EOFError: 沒有內建輸入，到達EOF(End Of File)標記\n",
    "- EnvironmentError: 作業系統錯誤的基礎類型\n",
    "- IOError: 輸入 / 輸出操作失敗\n",
    "- OSError: 作業系統錯誤\n",
    "- WindowsError: 系統調用失敗\n",
    "- ImportError: 導入模組 / 對象失敗\n",
    "- LookupError: 無效數據查詢的基礎類型\n",
    "- IndexError: 序列中沒有此索引(index)\n",
    "- KeyError: 集合中沒有這個鍵\n",
    "- MemoryError: 內存溢出錯誤(對於Python編譯器不是致命的)\n",
    "- NameError: 未宣告 / 初始化對象(沒有屬性)\n",
    "- UnboundLocalError: 訪問未初始化的本地變數\n",
    "- ReferenceError: Weak reference試圖訪問已經垃圾回收了的對象\n",
    "- RuntimeError: 一般的執行階段錯誤\n",
    "- NotImplementaedError: 尚未實作的方法\n",
    "- SyntaxError: Python 語法錯誤\n",
    "- IndentationError: 縮排錯誤\n",
    "- TabError: Tab 和空格混用\n",
    "- SystemError: 一般的編譯器系統錯誤\n",
    "- TypeError: 對類型無效的操作\n",
    "- ValueError: 傳入無效的參數\n",
    "- Unicode 錯誤\n",
    "    - UnicodeError: Unicode 相關的錯誤\n",
    "    - UnicodeDecodeError: Unicode 解碼時的錯誤\n",
    "    - UnicodeEncodeError: Unicode 編碼時的錯誤\n",
    "    - UnicodeTranslateError: Unicode 轉換時的錯誤\n",
    "- 警告    \n",
    "    - Warning: 警告的基礎類型\n",
    "    - DeprecationWarning: 關於被棄用的特徵警告\n",
    "    - FutureWarning: 關於將來語意會有改變的警告\n",
    "    - OverflowWarning: 溢位警告\n",
    "    - PendingDeprecationWarning: 關於特性將會被廢棄的警告\n",
    "    - RuntimeWarning: 可疑的 runtime behavior 警告\n",
    "    - SyntaxWarning: 可疑語法的警告\n",
    "    - UserWarning: 用戶代碼生成的警告"
   ]
  },
  {
   "cell_type": "markdown",
   "metadata": {},
   "source": [
    "## 例外處理 RAISE 陳述\n",
    "- 測試例外可以用 raise"
   ]
  },
  {
   "cell_type": "code",
   "execution_count": 5,
   "metadata": {},
   "outputs": [
    {
     "name": "stdout",
     "output_type": "stream",
     "text": [
      "發生例外,ZeroDivisionError\n"
     ]
    }
   ],
   "source": [
    "try:\n",
    "    raise ZeroDivisionError\n",
    "except NameError:\n",
    "    print(\"發生例外,NameError\")\n",
    "except ZeroDivisionError:\n",
    "    print(\"發生例外,ZeroDivisionError\")"
   ]
  },
  {
   "cell_type": "markdown",
   "metadata": {},
   "source": [
    "# 類別 class\n",
    "- Python 裡所有東西都是物件，而類別為物件的設計模板\n",
    "- 凡是物件都有屬性(attribute)與方法(method)。屬性雷同變數，方法類似函數。\n",
    "- 原則上還是 package > module > class, function, variable 這樣的包裹順序。不過 class 底下還可以包裹 function, variable，可看做是提供多一層的包裹功能。\n",
    "- 用法:\n",
    "   - 類別與類別屬性\n",
    "   ```python\n",
    "   class 類別名稱:\n",
    "        定義封裝的變數\n",
    "        定義封裝的函式\n",
    "   ```\n",
    "   - 類別與實體物件、實體屬性、實體方法\n",
    "      - 類別與實體物件、實體屬性\n",
    "   ```python\n",
    "   class 類別名稱:\n",
    "        # 定義初始化函式\n",
    "        def __init__(self):\n",
    "            透過操作 self 來定義實體屬性\n",
    "   # 建立實體物件，放入變數 obj 中\n",
    "   obj = 類別名稱() # 呼叫初始化函式\n",
    "   ```   \n",
    "      - 類別與實體物件、實體方法\n",
    "   ```python\n",
    "   class 類別名稱:\n",
    "        # 定義初始化函式\n",
    "        def __init__(self):\n",
    "            定義實體屬性\n",
    "        #定義實體方法 / 函式\n",
    "        def 方法名稱(self, 更多自訂參數):\n",
    "            方法主體, 透過 self 操作實體物件\n",
    "   # 建立實體物件，放入變數 obj 中\n",
    "   obj = 類別名稱() \n",
    "   ```       \n",
    "- 類別中有__doc__屬性，在三個引號之中放入定義文字，屬於類別的說明文件。也就是在使用 help() 時，會出現的說明文件。"
   ]
  },
  {
   "cell_type": "code",
   "execution_count": 1,
   "metadata": {},
   "outputs": [
    {
     "name": "stdout",
     "output_type": "stream",
     "text": [
      "Hello\n"
     ]
    }
   ],
   "source": [
    "# 範例: 類別與類別屬性\n",
    "# 定義 Test 類別\n",
    "class Test:\n",
    "    x=3\n",
    "    def say():\n",
    "        print(\"Hello\")\n",
    "# 使用 Test 類別\n",
    "Test.x + 3\n",
    "Test.say()"
   ]
  },
  {
   "cell_type": "code",
   "execution_count": 6,
   "metadata": {},
   "outputs": [
    {
     "name": "stdout",
     "output_type": "stream",
     "text": [
      "1 5\n"
     ]
    }
   ],
   "source": [
    "# 範例: 類別與實體物件、實體屬性\n",
    "# 定義 Point 類別\n",
    "class Point:\n",
    "    def __init__(self,x,y):\n",
    "        self.x = x\n",
    "        self.y = y\n",
    "# 建立實體物件，並取得實體屬性資料\n",
    "p = Point(1,5)\n",
    "print(p.x, p.y)"
   ]
  },
  {
   "cell_type": "code",
   "execution_count": 7,
   "metadata": {},
   "outputs": [
    {
     "name": "stdout",
     "output_type": "stream",
     "text": [
      "3 4\n",
      "5.0\n"
     ]
    }
   ],
   "source": [
    "# 範例: 類別與實體物件、實體方法\n",
    "# 定義 Point 類別\n",
    "class Point:\n",
    "    def __init__(self,x,y):\n",
    "        self.x = x\n",
    "        self.y = y\n",
    "    # 定義實體方法\n",
    "    def show(self):\n",
    "        print(self.x,self.y)\n",
    "    def distance(self, targetX, targetY):\n",
    "        return(((self.x - targetX)**2)+((self.y - targetY)**2))**0.5\n",
    "    \n",
    "p = Point(3,4)\n",
    "p.show() # 呼叫實體方法 / 函式\n",
    "result = p.distance(0,0)\n",
    "print(result)"
   ]
  }
 ],
 "metadata": {
  "colab": {
   "collapsed_sections": [],
   "name": "Python for Beginners (personal notes).ipynb",
   "provenance": [],
   "toc_visible": true,
   "version": "0.3.2"
  },
  "kernelspec": {
   "display_name": "Python 3",
   "language": "python",
   "name": "python3"
  },
  "language_info": {
   "codemirror_mode": {
    "name": "ipython",
    "version": 3
   },
   "file_extension": ".py",
   "mimetype": "text/x-python",
   "name": "python",
   "nbconvert_exporter": "python",
   "pygments_lexer": "ipython3",
   "version": "3.7.3"
  }
 },
 "nbformat": 4,
 "nbformat_minor": 1
}
