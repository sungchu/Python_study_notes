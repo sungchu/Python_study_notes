{
 "cells": [
  {
   "cell_type": "markdown",
   "metadata": {},
   "source": [
    "# NumPy\n",
    "\n",
    "<https://www.numpy.org/devdocs/user/index.html>\n",
    "\n",
    "- Numerical Python\n",
    "- `pip instal numpy`\n",
    "- 解決 Vectorization 的需求\n",
    "- 提供新的資料結構: `ndarray`\n",
    "- `import numpy as np`\n",
    "- 支援 boolean filtering\n",
    "- 支援不規則的 Slicing\n",
    "- 很輕易地支援矩陣的運算\n",
    "- 只容許單一種資料型態\n",
    "    - 隱性型別轉換：`bool` < `int` < `float` < `str`"
   ]
  },
  {
   "cell_type": "markdown",
   "metadata": {},
   "source": [
    "從下方網址取得所需資訊，並轉成特定型態\n",
    "\n",
    "- 股票代號/名稱: str\n",
    "- 成交價: float\n",
    "- 成交張數: int"
   ]
  },
  {
   "cell_type": "code",
   "execution_count": 1,
   "metadata": {},
   "outputs": [],
   "source": [
    "tse_100_url = \"https://tw.stock.yahoo.com/d/i/rank.php?t=pri&e=tse&n=100\""
   ]
  },
  {
   "cell_type": "code",
   "execution_count": 2,
   "metadata": {},
   "outputs": [],
   "source": [
    "# Pyquery 作法\n",
    "import requests\n",
    "from pyquery import PyQuery as pq\n",
    "\n",
    "# GET\n",
    "tse_100_url = \"https://tw.stock.yahoo.com/d/i/rank.php?t=pri&e=tse&n=100\"\n",
    "r = requests.get(tse_100_url)\n",
    "html_doc = r.text\n",
    "# Prase\n",
    "d = pq(html_doc)"
   ]
  },
  {
   "cell_type": "code",
   "execution_count": 3,
   "metadata": {},
   "outputs": [
    {
     "name": "stdout",
     "output_type": "stream",
     "text": [
      "['3008 大立光', '6409 旭隼', '2207 和泰車', '5269 祥碩', '6415 矽力-KY', '1476 儒鴻', '6669 緯穎', '3563 牧德', '3406 玉晶光', '1590 亞德客-KY', '2059 川湖', '2912 統一超', '2454 聯發科', '8341 日友', '2231 為升', '4137 麗豐-KY', '2227 裕日車', '8454 富邦媒', '9910 豐泰', '2327 國巨', '2049 上銀', '2395 研華', '2330 台積電', '8462 柏文', '8464 億豐', '6452 康友-KY', '9921 巨大', '1477 聚陽', '3443 創意', '2357 華碩', '1707 葡萄王', '3533 嘉澤', '2379 瑞昱', '2474 可成', '6414 樺漢', '3665 貿聯-KY', '2723 美食-KY', '6666 羅麗芬-KY', '9914 美利達', '3034 聯詠', '1256 鮮活果汁-KY', '6670 復盛應用', '3130 一零四', '8422 可寧衛', '6504 南六', '2492 華新科', '1537 廣隆', '2707 晶華', '2439 美律', '8070 長華', '4438 廣越', '4766 南寶', '6230 超眾', '4763 材料-KY', '4536 拓凱', '2404 漢唐', '5288 豐祥-KY', '1558 伸興', '8482 商億-KY', '2308 台達電', '4943 康控-KY', '1723 中碳', '2360 致茂', '3454 晶睿', '8480 泰昇-KY', '8016 矽創', '4912 聯德控股-KY', '2345 智邦', '3045 台灣大', '5871 中租-KY', '6505 台塑化', '3376 新日興', '9941 裕融', '1232 大統益', '2239 英利-KY', '3413 京鼎', '2412 中華電', '1301 台塑', '3023 信邦', '1326 台化', '6176 瑞儀', '3532 台勝科', '6533 晶心科', '6552 易華電', '3653 健策', '6271 同欣電', '4551 智伸科', '8114 振樺電', '2939 凱羿-KY', '4190 佐登-KY', '3026 禾伸堂', '1760 寶齡富錦', '6581 鋼聯', '8499 鼎炫-KY', '3044 健鼎', '4119 旭富', '3617 碩天', '2373 震旦行', '6456 GIS-KY', '6213 聯茂']\n",
      "[4085.0, 606.0, 486.5, 473.0, 465.0, 420.0, 370.0, 366.0, 351.5, 331.5, 308.5, 306.5, 287.5, 279.0, 272.0, 271.0, 264.0, 263.0, 259.5, 253.5, 245.0, 243.0, 238.0, 232.0, 230.0, 229.0, 228.5, 221.0, 218.5, 217.5, 216.5, 216.0, 211.0, 206.5, 205.0, 194.5, 185.0, 180.0, 180.0, 178.0, 175.0, 172.0, 170.0, 168.5, 164.0, 164.0, 163.0, 161.0, 161.0, 161.0, 158.5, 156.5, 152.0, 149.0, 147.0, 145.5, 145.0, 144.0, 142.0, 140.5, 134.5, 133.0, 130.0, 129.0, 128.5, 124.0, 119.0, 119.0, 117.0, 116.5, 116.0, 115.0, 115.0, 114.0, 113.5, 112.0, 112.0, 110.0, 109.5, 107.0, 104.5, 104.0, 103.0, 102.5, 102.0, 102.0, 102.0, 102.0, 100.0, 99.1, 97.6, 96.0, 95.5, 95.1, 94.8, 94.5, 94.3, 94.3, 94.2, 93.0]\n",
      "[477, 12, 882, 945, 372, 589, 3214, 859, 17061, 1430, 123, 1304, 3807, 812, 397, 873, 309, 22, 961, 5689, 2029, 526, 34569, 388, 551, 484, 1400, 1300, 2988, 912, 357, 1270, 6510, 4211, 973, 948, 163, 142, 1035, 12214, 18, 1390, 2, 39, 16, 7876, 27, 555, 2508, 93, 221, 432, 3709, 319, 188, 7798, 219, 215, 181, 6793, 9246, 39, 381, 5460, 14, 6765, 68, 3082, 3285, 1755, 1930, 849, 169, 38, 46, 175, 5297, 4052, 357, 4034, 2834, 511, 745, 7349, 3349, 850, 171, 49, 72, 285, 688, 1019, 30, 177, 778, 3919, 97, 85, 2736, 8228]\n"
     ]
    }
   ],
   "source": [
    "ticker_company_names = [i.text() for i in d(\".name\").items()]\n",
    "print(ticker_company_names )\n",
    "price = [float(i.text()) for i in d(\".name+ td\").items()]\n",
    "print(price)\n",
    "volumes = [int(i.text().replace(\",\",\"\")) for i in d(\"td:nth-child(9)\").items()]\n",
    "print(volumes)"
   ]
  },
  {
   "cell_type": "code",
   "execution_count": 4,
   "metadata": {},
   "outputs": [
    {
     "name": "stdout",
     "output_type": "stream",
     "text": [
      "[19.4928, 0.0727, 4.3809, 4.4514, 1.7371, 2.4836, 11.8764, 3.207, 62.0372, 4.7916, 0.3796, 4.0318, 10.9794, 2.2546, 1.099, 2.4041, 0.8189, 0.0578, 2.4581, 14.6435, 5.0181, 1.291, 82.5715, 0.8915, 1.2588, 1.1091, 3.2379, 2.8804, 6.5593, 1.9971, 0.7814, 2.7957, 13.7511, 8.7686, 2.0469, 1.864, 0.3023, 0.2591, 1.8693, 21.8435, 0.0316, 2.3922, 0.0034, 0.0658, 0.0262, 13.1513, 0.0442, 0.8904, 4.0898, 0.1501, 0.3519, 0.695, 5.8688, 0.4794, 0.2767, 11.552, 0.3148, 0.3094, 0.2527, 9.5849, 13.0923, 0.0519, 0.5002, 6.9337, 0.018, 8.2946, 0.0812, 3.7477, 3.8618, 2.0518, 2.2237, 0.9804, 0.1953, 0.0431, 0.0523, 0.1992, 5.9284, 4.4527, 0.3898, 4.324, 2.9695, 0.5346, 0.7811, 7.751, 3.5178, 0.8718, 0.1765, 0.0502, 0.0722, 0.2875, 0.6753, 0.9942, 0.0288, 0.1721, 0.7398, 3.7858, 0.0921, 0.0801, 2.6309, 7.7302]\n",
      "[1948545000.0, 7272000.0, 429093000.0, 446985000.0, 172980000.0, 247380000.0, 1189180000.0, 314394000.0, 5996941500.0, 474045000.0, 37945500.0, 399676000.0, 1094512500.0, 226548000.0, 107984000.0, 236583000.0, 81576000.0, 5786000.0, 249379500.0, 1442161500.0, 497105000.0, 127818000.0, 8227422000.0, 90016000.0, 126730000.0, 110836000.0, 319900000.0, 287300000.0, 652878000.0, 198360000.0, 77290500.0, 274320000.0, 1373610000.0, 869571500.0, 199465000.0, 184386000.0, 30155000.0, 25560000.0, 186300000.0, 2174092000.0, 3150000.0, 239080000.0, 340000.0, 6571500.0, 2624000.0, 1291664000.0, 4401000.0, 89355000.0, 403788000.0, 14973000.0, 35028500.0, 67608000.0, 563768000.0, 47531000.0, 27636000.0, 1134609000.0, 31755000.0, 30960000.0, 25702000.0, 954416500.0, 1243587000.0, 5187000.0, 49530000.0, 704340000.0, 1799000.0, 838860000.0, 8092000.0, 366758000.0, 384345000.0, 204457500.0, 223880000.0, 97635000.0, 19435000.0, 4332000.0, 5221000.0, 19600000.0, 593264000.0, 445720000.0, 39091500.0, 431638000.0, 296153000.0, 53144000.0, 76735000.0, 753272500.0, 341598000.0, 86700000.0, 17442000.0, 4998000.0, 7200000.0, 28243500.0, 67148800.0, 97824000.0, 2865000.0, 16832700.0, 73754400.0, 370345500.0, 9147100.0, 8015500.0, 257731200.0, 765204000.0]\n",
      "[1949280000.0, 7270000.0, 438089999.99999994, 445139999.99999994, 173710000.0, 248360000.0, 1187640000.0, 320700000.0, 6203720000.0, 479160000.0, 37960000.0, 403179999.99999994, 1097940000.0, 225460000.0, 109900000.0, 240410000.0, 81890000.0, 5780000.0, 245810000.0, 1464350000.0, 501809999.99999994, 129099999.99999999, 8257150000.0, 89150000.0, 125879999.99999999, 110910000.0, 323790000.0, 288040000.0, 655930000.0, 199710000.0, 78140000.0, 279570000.0, 1375110000.0, 876859999.9999999, 204690000.0, 186400000.0, 30230000.0, 25910000.0, 186930000.0, 2184350000.0, 3160000.0000000005, 239220000.0, 340000.0, 6580000.0, 2620000.0, 1315130000.0, 4420000.0, 89040000.0, 408980000.00000006, 15010000.000000002, 35190000.0, 69500000.0, 586880000.0, 47940000.0, 27670000.0, 1155200000.0, 31480000.000000004, 30940000.0, 25269999.999999996, 958489999.9999999, 1309230000.0, 5190000.0, 50020000.0, 693370000.0, 1799999.9999999998, 829460000.0000001, 8119999.999999999, 374770000.0, 386180000.0, 205180000.0, 222370000.0, 98040000.0, 19530000.0, 4310000.0, 5230000.0, 19920000.0, 592840000.0, 445270000.0, 38980000.0, 432400000.0, 296950000.0, 53460000.0, 78110000.0, 775100000.0, 351780000.0, 87180000.0, 17650000.0, 5020000.0, 7220000.0, 28749999.999999996, 67530000.0, 99420000.0, 2880000.0, 17210000.0, 73980000.0, 378580000.0, 9210000.0, 8010000.0, 263090000.0, 773020000.0]\n"
     ]
    }
   ],
   "source": [
    "values = [float(i.text()) for i in d(\"td:nth-child(10)\").items()]\n",
    "print(values)\n",
    "estimated_value = [price[i] * volumes[i] * 1000 for i in range(len(price))]\n",
    "print(estimated_value)\n",
    "values = [i * 100000000 for i in values]\n",
    "print(values)"
   ]
  },
  {
   "cell_type": "code",
   "execution_count": 5,
   "metadata": {},
   "outputs": [
    {
     "name": "stdout",
     "output_type": "stream",
     "text": [
      "<class 'bs4.BeautifulSoup'>\n"
     ]
    }
   ],
   "source": [
    "# BeautifulSoup 作法\n",
    "import requests\n",
    "from bs4 import BeautifulSoup\n",
    "\n",
    "r = requests.get(\"https://tw.stock.yahoo.com/d/i/rank.php?t=pri&e=tse&n=100\")\n",
    "html_str = r.text\n",
    "soup = BeautifulSoup(html_str)\n",
    "print(type(soup))"
   ]
  },
  {
   "cell_type": "code",
   "execution_count": 6,
   "metadata": {},
   "outputs": [
    {
     "name": "stdout",
     "output_type": "stream",
     "text": [
      "['3008 大立光', '6409 旭隼', '2207 和泰車', '5269 祥碩', '6415 矽力-KY', '1476 儒鴻', '6669 緯穎', '3563 牧德', '3406 玉晶光', '1590 亞德客-KY', '2059 川湖', '2912 統一超', '2454 聯發科', '8341 日友', '2231 為升', '4137 麗豐-KY', '2227 裕日車', '8454 富邦媒', '9910 豐泰', '2327 國巨', '2049 上銀', '2395 研華', '2330 台積電', '8462 柏文', '8464 億豐', '6452 康友-KY', '9921 巨大', '1477 聚陽', '3443 創意', '2357 華碩', '1707 葡萄王', '3533 嘉澤', '2379 瑞昱', '2474 可成', '6414 樺漢', '3665 貿聯-KY', '2723 美食-KY', '6666 羅麗芬-KY', '9914 美利達', '3034 聯詠', '1256 鮮活果汁-KY', '6670 復盛應用', '3130 一零四', '8422 可寧衛', '6504 南六', '2492 華新科', '1537 廣隆', '2707 晶華', '2439 美律', '8070 長華', '4438 廣越', '4766 南寶', '6230 超眾', '4763 材料-KY', '4536 拓凱', '2404 漢唐', '5288 豐祥-KY', '1558 伸興', '8482 商億-KY', '2308 台達電', '4943 康控-KY', '1723 中碳', '2360 致茂', '3454 晶睿', '8480 泰昇-KY', '8016 矽創', '4912 聯德控股-KY', '2345 智邦', '3045 台灣大', '5871 中租-KY', '6505 台塑化', '3376 新日興', '9941 裕融', '1232 大統益', '2239 英利-KY', '3413 京鼎', '2412 中華電', '1301 台塑', '3023 信邦', '1326 台化', '6176 瑞儀', '3532 台勝科', '6533 晶心科', '6552 易華電', '3653 健策', '6271 同欣電', '4551 智伸科', '8114 振樺電', '2939 凱羿-KY', '4190 佐登-KY', '3026 禾伸堂', '1760 寶齡富錦', '6581 鋼聯', '8499 鼎炫-KY', '3044 健鼎', '4119 旭富', '3617 碩天', '2373 震旦行', '6456 GIS-KY', '6213 聯茂']\n",
      "[4085.0, 606.0, 486.5, 473.0, 465.0, 420.0, 370.0, 366.0, 351.5, 331.5, 308.5, 306.5, 287.5, 279.0, 272.0, 271.0, 264.0, 263.0, 259.5, 253.5, 245.0, 243.0, 238.0, 232.0, 230.0, 229.0, 228.5, 221.0, 218.5, 217.5, 216.5, 216.0, 211.0, 206.5, 205.0, 194.5, 185.0, 180.0, 180.0, 178.0, 175.0, 172.0, 170.0, 168.5, 164.0, 164.0, 163.0, 161.0, 161.0, 161.0, 158.5, 156.5, 152.0, 149.0, 147.0, 145.5, 145.0, 144.0, 142.0, 140.5, 134.5, 133.0, 130.0, 129.0, 128.5, 124.0, 119.0, 119.0, 117.0, 116.5, 116.0, 115.0, 115.0, 114.0, 113.5, 112.0, 112.0, 110.0, 109.5, 107.0, 104.5, 104.0, 103.0, 102.5, 102.0, 102.0, 102.0, 102.0, 100.0, 99.1, 97.6, 96.0, 95.5, 95.1, 94.8, 94.5, 94.3, 94.3, 94.2, 93.0]\n",
      "[477, 12, 882, 945, 372, 589, 3214, 859, 17061, 1430, 123, 1304, 3807, 812, 397, 873, 309, 22, 961, 5689, 2029, 526, 34569, 388, 551, 484, 1400, 1300, 2988, 912, 357, 1270, 6510, 4211, 973, 948, 163, 142, 1035, 12214, 18, 1390, 2, 39, 16, 7876, 27, 555, 2508, 93, 221, 432, 3709, 319, 188, 7798, 219, 215, 181, 6793, 9246, 39, 381, 5460, 14, 6765, 68, 3082, 3285, 1755, 1930, 849, 169, 38, 46, 175, 5297, 4052, 357, 4034, 2834, 511, 745, 7349, 3349, 850, 171, 49, 72, 285, 688, 1019, 30, 177, 778, 3919, 97, 85, 2736, 8228]\n",
      "[1949280000.0, 7270000.0, 438089999.99999994, 445139999.99999994, 173710000.0, 248360000.0, 1187640000.0, 320700000.0, 6203720000.0, 479160000.0, 37960000.0, 403179999.99999994, 1097940000.0, 225460000.0, 109900000.0, 240410000.0, 81890000.0, 5780000.0, 245810000.0, 1464350000.0, 501809999.99999994, 129099999.99999999, 8257150000.0, 89150000.0, 125879999.99999999, 110910000.0, 323790000.0, 288040000.0, 655930000.0, 199710000.0, 78140000.0, 279570000.0, 1375110000.0, 876859999.9999999, 204690000.0, 186400000.0, 30230000.0, 25910000.0, 186930000.0, 2184350000.0, 3160000.0000000005, 239220000.0, 340000.0, 6580000.0, 2620000.0, 1315130000.0, 4420000.0, 89040000.0, 408980000.00000006, 15010000.000000002, 35190000.0, 69500000.0, 586880000.0, 47940000.0, 27670000.0, 1155200000.0, 31480000.000000004, 30940000.0, 25269999.999999996, 958489999.9999999, 1309230000.0, 5190000.0, 50020000.0, 693370000.0, 1799999.9999999998, 829460000.0000001, 8119999.999999999, 374770000.0, 386180000.0, 205180000.0, 222370000.0, 98040000.0, 19530000.0, 4310000.0, 5230000.0, 19920000.0, 592840000.0, 445270000.0, 38980000.0, 432400000.0, 296950000.0, 53460000.0, 78110000.0, 775100000.0, 351780000.0, 87180000.0, 17650000.0, 5020000.0, 7220000.0, 28749999.999999996, 67530000.0, 99420000.0, 2880000.0, 17210000.0, 73980000.0, 378580000.0, 9210000.0, 8010000.0, 263090000.0, 773020000.0]\n"
     ]
    }
   ],
   "source": [
    "table_contents = soup.find_all(\"td\")[2].find_all(\"td\")[3:]\n",
    "n_data = len(table_contents)\n",
    "ticker_names = [table_contents[i].text for i in range(n_data) if i % 10 == 1]\n",
    "prices = [float(table_contents[i].text) for i in range(n_data) if i % 10 == 2]\n",
    "volumes = [int(table_contents[i].text.replace(\",\", \"\")) for i in range(n_data) if i % 10 == 8]\n",
    "mkt_values = [float(table_contents[i].text)*100000000 for i in range(n_data) if i % 10 == 9]\n",
    "print(ticker_names)\n",
    "print(prices)\n",
    "print(volumes)\n",
    "print(mkt_values)"
   ]
  },
  {
   "cell_type": "code",
   "execution_count": 7,
   "metadata": {},
   "outputs": [
    {
     "name": "stdout",
     "output_type": "stream",
     "text": [
      "<class 'numpy.ndarray'>\n",
      "<class 'numpy.ndarray'>\n"
     ]
    }
   ],
   "source": [
    "import numpy as np\n",
    "prices_arr = np.array(price)\n",
    "volumes_arr = np.array(volumes)\n",
    "print(type(prices_arr))\n",
    "print(type(volumes_arr))"
   ]
  },
  {
   "cell_type": "code",
   "execution_count": 8,
   "metadata": {},
   "outputs": [
    {
     "name": "stdout",
     "output_type": "stream",
     "text": [
      "[1.9485450e+09 7.2720000e+06 4.2909300e+08 4.4698500e+08 1.7298000e+08\n",
      " 2.4738000e+08 1.1891800e+09 3.1439400e+08 5.9969415e+09 4.7404500e+08\n",
      " 3.7945500e+07 3.9967600e+08 1.0945125e+09 2.2654800e+08 1.0798400e+08\n",
      " 2.3658300e+08 8.1576000e+07 5.7860000e+06 2.4937950e+08 1.4421615e+09\n",
      " 4.9710500e+08 1.2781800e+08 8.2274220e+09 9.0016000e+07 1.2673000e+08\n",
      " 1.1083600e+08 3.1990000e+08 2.8730000e+08 6.5287800e+08 1.9836000e+08\n",
      " 7.7290500e+07 2.7432000e+08 1.3736100e+09 8.6957150e+08 1.9946500e+08\n",
      " 1.8438600e+08 3.0155000e+07 2.5560000e+07 1.8630000e+08 2.1740920e+09\n",
      " 3.1500000e+06 2.3908000e+08 3.4000000e+05 6.5715000e+06 2.6240000e+06\n",
      " 1.2916640e+09 4.4010000e+06 8.9355000e+07 4.0378800e+08 1.4973000e+07\n",
      " 3.5028500e+07 6.7608000e+07 5.6376800e+08 4.7531000e+07 2.7636000e+07\n",
      " 1.1346090e+09 3.1755000e+07 3.0960000e+07 2.5702000e+07 9.5441650e+08\n",
      " 1.2435870e+09 5.1870000e+06 4.9530000e+07 7.0434000e+08 1.7990000e+06\n",
      " 8.3886000e+08 8.0920000e+06 3.6675800e+08 3.8434500e+08 2.0445750e+08\n",
      " 2.2388000e+08 9.7635000e+07 1.9435000e+07 4.3320000e+06 5.2210000e+06\n",
      " 1.9600000e+07 5.9326400e+08 4.4572000e+08 3.9091500e+07 4.3163800e+08\n",
      " 2.9615300e+08 5.3144000e+07 7.6735000e+07 7.5327250e+08 3.4159800e+08\n",
      " 8.6700000e+07 1.7442000e+07 4.9980000e+06 7.2000000e+06 2.8243500e+07\n",
      " 6.7148800e+07 9.7824000e+07 2.8650000e+06 1.6832700e+07 7.3754400e+07\n",
      " 3.7034550e+08 9.1471000e+06 8.0155000e+06 2.5773120e+08 7.6520400e+08]\n"
     ]
    }
   ],
   "source": [
    "estimated_value = prices_arr * volumes_arr *1000\n",
    "print(estimated_value)"
   ]
  },
  {
   "cell_type": "code",
   "execution_count": 9,
   "metadata": {},
   "outputs": [
    {
     "name": "stdout",
     "output_type": "stream",
     "text": [
      "[73.4 53.6 44.6 80.6 69.8]\n"
     ]
    }
   ],
   "source": [
    "cities = [\"Taipei\",\"New York\",\"London\",\"Seoul\"]\n",
    "temperatures_c = [23,12,7,27,21]\n",
    "temperatures_f = np.array(temperatures_c) * (9/5) + 32 \n",
    "print(temperatures_f)"
   ]
  },
  {
   "cell_type": "markdown",
   "metadata": {},
   "source": [
    "## 創建 `ndarray` 的函數\n",
    "- `np.array()`\n",
    "- `np.arange(start, stop, step)`\n",
    "- `np.linspace()`: 建立要等距切分的陣列\n",
    "- `np.ones()`\n",
    "- `np.zeros()`\n",
    "- `np.eye()`: 建立單位矩陣\n",
    "- `numpy.diag()`: 建立對角矩陣\n",
    "- `np.random.rand()`: 建立符合均勻分布的陣列\n",
    "- `np.random.randn()`: 建立符合常態分布的陣列\n",
    "- `numpy.random.randint()`: 建立隨機整數的陣列"
   ]
  },
  {
   "cell_type": "code",
   "execution_count": 10,
   "metadata": {},
   "outputs": [
    {
     "data": {
      "text/plain": [
       "array(10)"
      ]
     },
     "execution_count": 10,
     "metadata": {},
     "output_type": "execute_result"
    }
   ],
   "source": [
    "np.array(10) #range"
   ]
  },
  {
   "cell_type": "code",
   "execution_count": 11,
   "metadata": {},
   "outputs": [
    {
     "data": {
      "text/plain": [
       "array([ 1,  3,  5,  7,  9, 11, 13, 15, 17, 19, 21])"
      ]
     },
     "execution_count": 11,
     "metadata": {},
     "output_type": "execute_result"
    }
   ],
   "source": [
    "np.arange(1,22,2)"
   ]
  },
  {
   "cell_type": "code",
   "execution_count": 12,
   "metadata": {},
   "outputs": [
    {
     "data": {
      "text/plain": [
       "array([ 1.,  2.,  3.,  4.,  5.,  6.,  7.,  8.,  9., 10., 11., 12., 13.,\n",
       "       14., 15., 16., 17., 18., 19., 20., 21., 22., 23., 24., 25., 26.,\n",
       "       27., 28., 29., 30., 31., 32., 33., 34., 35., 36., 37., 38., 39.,\n",
       "       40., 41., 42., 43., 44., 45., 46., 47., 48., 49., 50.])"
      ]
     },
     "execution_count": 12,
     "metadata": {},
     "output_type": "execute_result"
    }
   ],
   "source": [
    "np.linspace(1,50) # 50有包含再數列裡"
   ]
  },
  {
   "cell_type": "code",
   "execution_count": 13,
   "metadata": {},
   "outputs": [
    {
     "data": {
      "text/plain": [
       "array([ 0.00000000e+00,  1.27877162e-01,  2.53654584e-01,  3.75267005e-01,\n",
       "        4.90717552e-01,  5.98110530e-01,  6.95682551e-01,  7.81831482e-01,\n",
       "        8.55142763e-01,  9.14412623e-01,  9.58667853e-01,  9.87181783e-01,\n",
       "        9.99486216e-01,  9.95379113e-01,  9.74927912e-01,  9.38468422e-01,\n",
       "        8.86599306e-01,  8.20172255e-01,  7.40277997e-01,  6.48228395e-01,\n",
       "        5.45534901e-01,  4.33883739e-01,  3.15108218e-01,  1.91158629e-01,\n",
       "        6.40702200e-02, -6.40702200e-02, -1.91158629e-01, -3.15108218e-01,\n",
       "       -4.33883739e-01, -5.45534901e-01, -6.48228395e-01, -7.40277997e-01,\n",
       "       -8.20172255e-01, -8.86599306e-01, -9.38468422e-01, -9.74927912e-01,\n",
       "       -9.95379113e-01, -9.99486216e-01, -9.87181783e-01, -9.58667853e-01,\n",
       "       -9.14412623e-01, -8.55142763e-01, -7.81831482e-01, -6.95682551e-01,\n",
       "       -5.98110530e-01, -4.90717552e-01, -3.75267005e-01, -2.53654584e-01,\n",
       "       -1.27877162e-01, -2.44929360e-16])"
      ]
     },
     "execution_count": 13,
     "metadata": {},
     "output_type": "execute_result"
    }
   ],
   "source": [
    "x = np.linspace(0,2 * np.pi)\n",
    "y = np.sin(x)\n",
    "y"
   ]
  },
  {
   "cell_type": "code",
   "execution_count": 14,
   "metadata": {},
   "outputs": [
    {
     "data": {
      "text/plain": [
       "<Figure size 640x480 with 1 Axes>"
      ]
     },
     "metadata": {},
     "output_type": "display_data"
    }
   ],
   "source": [
    "import matplotlib.pyplot as plt\n",
    "\n",
    "plt.plot(x,y)\n",
    "plt.show()"
   ]
  },
  {
   "cell_type": "code",
   "execution_count": 15,
   "metadata": {},
   "outputs": [
    {
     "data": {
      "text/plain": [
       "array([1., 1., 1., 1., 1.])"
      ]
     },
     "execution_count": 15,
     "metadata": {},
     "output_type": "execute_result"
    }
   ],
   "source": [
    "np.ones(5)"
   ]
  },
  {
   "cell_type": "code",
   "execution_count": 16,
   "metadata": {},
   "outputs": [
    {
     "data": {
      "text/plain": [
       "array([0., 0., 0., 0., 0., 0., 0.])"
      ]
     },
     "execution_count": 16,
     "metadata": {},
     "output_type": "execute_result"
    }
   ],
   "source": [
    "np.zeros(7)"
   ]
  },
  {
   "cell_type": "code",
   "execution_count": 17,
   "metadata": {},
   "outputs": [
    {
     "data": {
      "image/png": "[encoded data removed]",
      "text/plain": [
       "<Figure size 432x288 with 1 Axes>"
      ]
     },
     "metadata": {
      "needs_background": "light"
     },
     "output_type": "display_data"
    }
   ],
   "source": [
    "x = np.random.rand(1000)\n",
    "plt.hist(x)\n",
    "plt.show()"
   ]
  },
  {
   "cell_type": "code",
   "execution_count": 18,
   "metadata": {},
   "outputs": [
    {
     "data": {
      "image/png": "[encoded data removed]",
      "text/plain": [
       "<Figure size 432x288 with 1 Axes>"
      ]
     },
     "metadata": {
      "needs_background": "light"
     },
     "output_type": "display_data"
    }
   ],
   "source": [
    "x = np.random.randn(1000)\n",
    "plt.hist(x)\n",
    "plt.show()"
   ]
  },
  {
   "cell_type": "code",
   "execution_count": 19,
   "metadata": {},
   "outputs": [
    {
     "name": "stdout",
     "output_type": "stream",
     "text": [
      "<class 'numpy.ndarray'>\n",
      "0\n",
      "()\n"
     ]
    }
   ],
   "source": [
    "# 0-dim: scalar\n",
    "scalar = np.array(87)\n",
    "print(type(scalar))\n",
    "print(scalar.ndim)\n",
    "print(scalar.shape)"
   ]
  },
  {
   "cell_type": "code",
   "execution_count": 20,
   "metadata": {},
   "outputs": [
    {
     "name": "stdout",
     "output_type": "stream",
     "text": [
      "<class 'numpy.ndarray'>\n",
      "1\n",
      "(3,)\n"
     ]
    }
   ],
   "source": [
    "# 1-dim: vector\n",
    "vector = np.array([87,78,5566])\n",
    "print(type(vector))\n",
    "print(vector.ndim)\n",
    "print(vector.shape)"
   ]
  },
  {
   "cell_type": "code",
   "execution_count": 21,
   "metadata": {},
   "outputs": [
    {
     "name": "stdout",
     "output_type": "stream",
     "text": [
      "<class 'numpy.ndarray'>\n",
      "2\n",
      "(3, 2)\n",
      "[[1 2]\n",
      " [3 4]\n",
      " [5 6]]\n"
     ]
    }
   ],
   "source": [
    "# 2-dim: metric\n",
    "metrix = np.array([\n",
    "    [1,2],\n",
    "    [3,4],\n",
    "    [5,6]\n",
    "])\n",
    "print(type(metrix))\n",
    "print(metrix.ndim)\n",
    "print(metrix.shape)\n",
    "print(metrix)"
   ]
  },
  {
   "cell_type": "code",
   "execution_count": 22,
   "metadata": {},
   "outputs": [
    {
     "name": "stdout",
     "output_type": "stream",
     "text": [
      "<class 'numpy.ndarray'>\n",
      "3\n",
      "(2, 3, 4)\n",
      "[[[ 0  1  2  3]\n",
      "  [ 4  5  6  7]\n",
      "  [ 8  9 10 11]]\n",
      "\n",
      " [[12 13 14 15]\n",
      "  [16 17 18 19]\n",
      "  [20 21 22 23]]]\n"
     ]
    }
   ],
   "source": [
    "# 3-dim: tensor\n",
    "tensor = np.arange(24).reshape(2, 3, 4)\n",
    "print(type(tensor))\n",
    "print(tensor.ndim)\n",
    "print(tensor.shape)\n",
    "print(tensor)\n"
   ]
  },
  {
   "cell_type": "code",
   "execution_count": 23,
   "metadata": {},
   "outputs": [
    {
     "name": "stdout",
     "output_type": "stream",
     "text": [
      "['3008', '6409', '2207', '5269', '6415', '1476', '6669', '3563', '3406', '1590', '2059', '2912', '2454', '8341', '2231', '4137', '2227', '8454', '9910', '2327', '2049', '2395', '2330', '8462', '8464', '6452', '9921', '1477', '3443', '2357', '1707', '3533', '2379', '2474', '6414', '3665', '2723', '6666', '9914', '3034', '1256', '6670', '3130', '8422', '6504', '2492', '1537', '2707', '2439', '8070', '4438', '4766', '6230', '4763', '4536', '2404', '5288', '1558', '8482', '2308', '4943', '1723', '2360', '3454', '8480', '8016', '4912', '2345', '3045', '5871', '6505', '3376', '9941', '1232', '2239', '3413', '2412', '1301', '3023', '1326', '6176', '3532', '6533', '6552', '3653', '6271', '4551', '8114', '2939', '4190', '3026', '1760', '6581', '8499', '3044', '4119', '3617', '2373', '6456', '6213']\n",
      "['大立光', '旭隼', '和泰車', '祥碩', '矽力-KY', '儒鴻', '緯穎', '牧德', '玉晶光', '亞德客-KY', '川湖', '統一超', '聯發科', '日友', '為升', '麗豐-KY', '裕日車', '富邦媒', '豐泰', '國巨', '上銀', '研華', '台積電', '柏文', '億豐', '康友-KY', '巨大', '聚陽', '創意', '華碩', '葡萄王', '嘉澤', '瑞昱', '可成', '樺漢', '貿聯-KY', '美食-KY', '羅麗芬-KY', '美利達', '聯詠', '鮮活果汁-KY', '復盛應用', '一零四', '可寧衛', '南六', '華新科', '廣隆', '晶華', '美律', '長華', '廣越', '南寶', '超眾', '材料-KY', '拓凱', '漢唐', '豐祥-KY', '伸興', '商億-KY', '台達電', '康控-KY', '中碳', '致茂', '晶睿', '泰昇-KY', '矽創', '聯德控股-KY', '智邦', '台灣大', '中租-KY', '台塑化', '新日興', '裕融', '大統益', '英利-KY', '京鼎', '中華電', '台塑', '信邦', '台化', '瑞儀', '台勝科', '晶心科', '易華電', '健策', '同欣電', '智伸科', '振樺電', '凱羿-KY', '佐登-KY', '禾伸堂', '寶齡富錦', '鋼聯', '鼎炫-KY', '健鼎', '旭富', '碩天', '震旦行', 'GIS-KY', '聯茂']\n"
     ]
    }
   ],
   "source": [
    "tickers = [i.split()[0] for i in ticker_names]\n",
    "companies = [i.split()[1] for i in ticker_names]\n",
    "print(tickers)\n",
    "print(companies)"
   ]
  },
  {
   "cell_type": "code",
   "execution_count": 24,
   "metadata": {},
   "outputs": [
    {
     "name": "stdout",
     "output_type": "stream",
     "text": [
      "['3008', '6409', '2207', '5269', '6415', '1476', '6669', '3563', '3406', '1590', '2059', '2912', '2454', '8341', '2231', '4137', '2227', '8454', '9910', '2327', '2049', '2395', '2330', '8462', '8464', '6452', '9921', '1477', '3443', '2357', '1707', '3533', '2379', '2474', '6414', '3665', '2723', '6666', '9914', '3034', '1256', '6670', '3130', '8422', '6504', '2492', '1537', '2707', '2439', '8070', '4438', '4766', '6230', '4763', '4536', '2404', '5288', '1558', '8482', '2308', '4943', '1723', '2360', '3454', '8480', '8016', '4912', '2345', '3045', '5871', '6505', '3376', '9941', '1232', '2239', '3413', '2412', '1301', '3023', '1326', '6176', '3532', '6533', '6552', '3653', '6271', '4551', '8114', '2939', '4190', '3026', '1760', '6581', '8499', '3044', '4119', '3617', '2373', '6456', '6213']\n",
      "['大立光', '旭隼', '和泰車', '祥碩', '矽力-KY', '儒鴻', '緯穎', '牧德', '玉晶光', '亞德客-KY', '川湖', '統一超', '聯發科', '日友', '為升', '麗豐-KY', '裕日車', '富邦媒', '豐泰', '國巨', '上銀', '研華', '台積電', '柏文', '億豐', '康友-KY', '巨大', '聚陽', '創意', '華碩', '葡萄王', '嘉澤', '瑞昱', '可成', '樺漢', '貿聯-KY', '美食-KY', '羅麗芬-KY', '美利達', '聯詠', '鮮活果汁-KY', '復盛應用', '一零四', '可寧衛', '南六', '華新科', '廣隆', '晶華', '美律', '長華', '廣越', '南寶', '超眾', '材料-KY', '拓凱', '漢唐', '豐祥-KY', '伸興', '商億-KY', '台達電', '康控-KY', '中碳', '致茂', '晶睿', '泰昇-KY', '矽創', '聯德控股-KY', '智邦', '台灣大', '中租-KY', '台塑化', '新日興', '裕融', '大統益', '英利-KY', '京鼎', '中華電', '台塑', '信邦', '台化', '瑞儀', '台勝科', '晶心科', '易華電', '健策', '同欣電', '智伸科', '振樺電', '凱羿-KY', '佐登-KY', '禾伸堂', '寶齡富錦', '鋼聯', '鼎炫-KY', '健鼎', '旭富', '碩天', '震旦行', 'GIS-KY', '聯茂']\n"
     ]
    }
   ],
   "source": [
    "def get_ticker(x):\n",
    "    return x.split()[0]\n",
    "def get_companies(x):\n",
    "    return x.split()[1]\n",
    "print(list(map(get_ticker, ticker_names))) # Mapping func to ticker_names\n",
    "print(list(map(get_companies, ticker_names)))"
   ]
  },
  {
   "cell_type": "code",
   "execution_count": 25,
   "metadata": {},
   "outputs": [
    {
     "name": "stdout",
     "output_type": "stream",
     "text": [
      "['3008', '6409', '2207', '5269', '6415', '1476', '6669', '3563', '3406', '1590', '2059', '2912', '2454', '8341', '2231', '4137', '2227', '8454', '9910', '2327', '2049', '2395', '2330', '8462', '8464', '6452', '9921', '1477', '3443', '2357', '1707', '3533', '2379', '2474', '6414', '3665', '2723', '6666', '9914', '3034', '1256', '6670', '3130', '8422', '6504', '2492', '1537', '2707', '2439', '8070', '4438', '4766', '6230', '4763', '4536', '2404', '5288', '1558', '8482', '2308', '4943', '1723', '2360', '3454', '8480', '8016', '4912', '2345', '3045', '5871', '6505', '3376', '9941', '1232', '2239', '3413', '2412', '1301', '3023', '1326', '6176', '3532', '6533', '6552', '3653', '6271', '4551', '8114', '2939', '4190', '3026', '1760', '6581', '8499', '3044', '4119', '3617', '2373', '6456', '6213']\n",
      "['大立光', '旭隼', '和泰車', '祥碩', '矽力-KY', '儒鴻', '緯穎', '牧德', '玉晶光', '亞德客-KY', '川湖', '統一超', '聯發科', '日友', '為升', '麗豐-KY', '裕日車', '富邦媒', '豐泰', '國巨', '上銀', '研華', '台積電', '柏文', '億豐', '康友-KY', '巨大', '聚陽', '創意', '華碩', '葡萄王', '嘉澤', '瑞昱', '可成', '樺漢', '貿聯-KY', '美食-KY', '羅麗芬-KY', '美利達', '聯詠', '鮮活果汁-KY', '復盛應用', '一零四', '可寧衛', '南六', '華新科', '廣隆', '晶華', '美律', '長華', '廣越', '南寶', '超眾', '材料-KY', '拓凱', '漢唐', '豐祥-KY', '伸興', '商億-KY', '台達電', '康控-KY', '中碳', '致茂', '晶睿', '泰昇-KY', '矽創', '聯德控股-KY', '智邦', '台灣大', '中租-KY', '台塑化', '新日興', '裕融', '大統益', '英利-KY', '京鼎', '中華電', '台塑', '信邦', '台化', '瑞儀', '台勝科', '晶心科', '易華電', '健策', '同欣電', '智伸科', '振樺電', '凱羿-KY', '佐登-KY', '禾伸堂', '寶齡富錦', '鋼聯', '鼎炫-KY', '健鼎', '旭富', '碩天', '震旦行', 'GIS-KY', '聯茂']\n"
     ]
    }
   ],
   "source": [
    "# lambda 函數用在用完即丟的 function\n",
    "# functional programming\n",
    "tickers = list(map(lambda x: x.split()[0], ticker_names))\n",
    "companies = list(map(lambda x: x.split()[1], ticker_names))\n",
    "print(tickers)\n",
    "print(companies)"
   ]
  },
  {
   "cell_type": "code",
   "execution_count": 26,
   "metadata": {},
   "outputs": [],
   "source": [
    "non_ky_companies = [i for i in companies if 'KY' not in i]\n",
    "ky_companies = [i for i in companies if 'KY' in i]"
   ]
  },
  {
   "cell_type": "code",
   "execution_count": 27,
   "metadata": {},
   "outputs": [],
   "source": [
    "# filter\n",
    "non_ky_companies = list(filter(lambda x: 'KY' not in x, companies))\n",
    "ky_companies = list(filter(lambda x: 'KY' in x, companies))"
   ]
  },
  {
   "cell_type": "markdown",
   "metadata": {},
   "source": [
    "## Boolean filtering"
   ]
  },
  {
   "cell_type": "code",
   "execution_count": 28,
   "metadata": {},
   "outputs": [
    {
     "data": {
      "text/plain": [
       "array(['矽力-KY', '亞德客-KY', '麗豐-KY', '康友-KY', '貿聯-KY', '美食-KY', '羅麗芬-KY',\n",
       "       '鮮活果汁-KY', '材料-KY', '豐祥-KY', '商億-KY', '康控-KY', '泰昇-KY', '聯德控股-KY',\n",
       "       '中租-KY', '英利-KY', '凱羿-KY', '佐登-KY', '鼎炫-KY', 'GIS-KY'], dtype='<U7')"
      ]
     },
     "execution_count": 28,
     "metadata": {},
     "output_type": "execute_result"
    }
   ],
   "source": [
    "import numpy as np\n",
    "import pandas as pd\n",
    "\n",
    "companies_ser = pd.Series(companies)\n",
    "listed_in_KY = companies_ser.str.contains(\"KY\").values\n",
    "companies_arr = np.array(companies)\n",
    "companies_arr[listed_in_KY]"
   ]
  },
  {
   "cell_type": "code",
   "execution_count": 29,
   "metadata": {},
   "outputs": [
    {
     "data": {
      "text/plain": [
       "array(['大立光', '旭隼', '和泰車', '祥碩', '儒鴻', '緯穎', '牧德', '玉晶光', '川湖', '統一超',\n",
       "       '聯發科', '日友', '為升', '裕日車', '富邦媒', '豐泰', '國巨', '上銀', '研華', '台積電',\n",
       "       '柏文', '億豐', '巨大', '聚陽', '創意', '華碩', '葡萄王', '嘉澤', '瑞昱', '可成', '樺漢',\n",
       "       '美利達', '聯詠', '復盛應用', '一零四', '可寧衛', '南六', '華新科', '廣隆', '晶華', '美律',\n",
       "       '長華', '廣越', '南寶', '超眾', '拓凱', '漢唐', '伸興', '台達電', '中碳', '致茂', '晶睿',\n",
       "       '矽創', '智邦', '台灣大', '台塑化', '新日興', '裕融', '大統益', '京鼎', '中華電', '台塑',\n",
       "       '信邦', '台化', '瑞儀', '台勝科', '晶心科', '易華電', '健策', '同欣電', '智伸科', '振樺電',\n",
       "       '禾伸堂', '寶齡富錦', '鋼聯', '健鼎', '旭富', '碩天', '震旦行', '聯茂'], dtype='<U7')"
      ]
     },
     "execution_count": 29,
     "metadata": {},
     "output_type": "execute_result"
    }
   ],
   "source": [
    "companies_arr[~listed_in_KY]"
   ]
  },
  {
   "cell_type": "code",
   "execution_count": 30,
   "metadata": {},
   "outputs": [
    {
     "data": {
      "text/plain": [
       "array([465. , 331.5, 271. , 229. , 194.5, 185. , 180. , 175. , 149. ,\n",
       "       145. , 142. , 134.5, 128.5, 119. , 116.5, 113.5, 100. ,  99.1,\n",
       "        95.1,  94.2])"
      ]
     },
     "execution_count": 30,
     "metadata": {},
     "output_type": "execute_result"
    }
   ],
   "source": [
    "np.array(prices)[listed_in_KY]"
   ]
  },
  {
   "cell_type": "code",
   "execution_count": 31,
   "metadata": {},
   "outputs": [
    {
     "data": {
      "text/plain": [
       "array([4085. ,  606. ,  486.5,  473. ,  420. ,  370. ,  366. ,  351.5,\n",
       "        308.5,  306.5,  287.5,  279. ,  272. ,  264. ,  263. ,  259.5,\n",
       "        253.5,  245. ,  243. ,  238. ,  232. ,  230. ,  228.5,  221. ,\n",
       "        218.5,  217.5,  216.5,  216. ,  211. ,  206.5,  205. ,  180. ,\n",
       "        178. ,  172. ,  170. ,  168.5,  164. ,  164. ,  163. ,  161. ,\n",
       "        161. ,  161. ,  158.5,  156.5,  152. ,  147. ,  145.5,  144. ,\n",
       "        140.5,  133. ,  130. ,  129. ,  124. ,  119. ,  117. ,  116. ,\n",
       "        115. ,  115. ,  114. ,  112. ,  112. ,  110. ,  109.5,  107. ,\n",
       "        104.5,  104. ,  103. ,  102.5,  102. ,  102. ,  102. ,  102. ,\n",
       "         97.6,   96. ,   95.5,   94.8,   94.5,   94.3,   94.3,   93. ])"
      ]
     },
     "execution_count": 31,
     "metadata": {},
     "output_type": "execute_result"
    }
   ],
   "source": [
    "np.array(prices)[~listed_in_KY]"
   ]
  },
  {
   "cell_type": "code",
   "execution_count": 32,
   "metadata": {},
   "outputs": [],
   "source": [
    "cities = [\"Taipei\", \"Boston\", \"London\", \"Reykjavik\", \"Tokyo\" ]\n",
    "continents = [\"Asia\", \"North America\", \"Europe\", \"Europe\", \"Asia\"]\n",
    "current_temps = [27, 9, 6, 2, 24]"
   ]
  },
  {
   "cell_type": "code",
   "execution_count": 33,
   "metadata": {},
   "outputs": [
    {
     "name": "stdout",
     "output_type": "stream",
     "text": [
      "['London' 'Reykjavik']\n",
      "['Boston' 'London' 'Reykjavik']\n"
     ]
    }
   ],
   "source": [
    "# 使用 ndarray boolean filtering\n",
    "# 把歐洲的城市篩選出來\n",
    "# 把氣溫低於攝氏 10 度的城市篩選出來\n",
    "in_europe = np.array(continents) == \"Europe\"\n",
    "print(np.array(cities)[in_europe])\n",
    "lower_than_ten = np.array(current_temps) < 10\n",
    "print(np.array(cities)[lower_than_ten])"
   ]
  },
  {
   "cell_type": "code",
   "execution_count": 34,
   "metadata": {},
   "outputs": [
    {
     "name": "stdout",
     "output_type": "stream",
     "text": [
      "['London' 'Reykjavik']\n",
      "['Boston' 'London' 'Reykjavik']\n"
     ]
    }
   ],
   "source": [
    "print(np.array(cities)[np.array(continents) == \"Europe\"])\n",
    "print(np.array(cities)[np.array(current_temps) < 10])"
   ]
  },
  {
   "cell_type": "markdown",
   "metadata": {},
   "source": [
    "## 不規則的 Slicing"
   ]
  },
  {
   "cell_type": "code",
   "execution_count": 35,
   "metadata": {},
   "outputs": [
    {
     "data": {
      "text/plain": [
       "array(['Taipei', 'Boston', 'Tokyo'], dtype='<U9')"
      ]
     },
     "execution_count": 35,
     "metadata": {},
     "output_type": "execute_result"
    }
   ],
   "source": [
    "np.array(cities)[[0, 1, 4]] # non-european cities"
   ]
  },
  {
   "cell_type": "code",
   "execution_count": 36,
   "metadata": {},
   "outputs": [
    {
     "name": "stdout",
     "output_type": "stream",
     "text": [
      "[[19, 22], [43, 50]]\n"
     ]
    }
   ],
   "source": [
    "A = [\n",
    "    [1, 2],\n",
    "    [3, 4]\n",
    "]\n",
    "\n",
    "B = [\n",
    "    [5, 6],\n",
    "    [7, 8]\n",
    "]\n",
    "#C = AB # matrix multiply\n",
    "C = [\n",
    "    [0, 0],\n",
    "    [0, 0]\n",
    "]\n",
    "for i in range(len(A)):\n",
    "    for k in range(len(B[0])):\n",
    "        for j in range(len(B)):\n",
    "            C[i][j] += A[i][k] * B[k][j]\n",
    "print(C)"
   ]
  },
  {
   "cell_type": "code",
   "execution_count": 37,
   "metadata": {},
   "outputs": [
    {
     "name": "stdout",
     "output_type": "stream",
     "text": [
      "(2, 2)\n",
      "[[19 22]\n",
      " [43 50]]\n"
     ]
    }
   ],
   "source": [
    "A_arr = np.array(A)\n",
    "print(A_arr.shape)\n",
    "B_arr = np.array(B)\n",
    "C_arr = A_arr.dot(B_arr) #np.dot() 支援矩陣運算\n",
    "print(C_arr)"
   ]
  },
  {
   "cell_type": "markdown",
   "metadata": {},
   "source": [
    "## 隱性的型別轉換"
   ]
  },
  {
   "cell_type": "code",
   "execution_count": 38,
   "metadata": {},
   "outputs": [
    {
     "name": "stdout",
     "output_type": "stream",
     "text": [
      "<class 'bool'>\n",
      "<class 'bool'>\n",
      "<class 'int'>\n",
      "<class 'float'>\n",
      "<class 'str'>\n"
     ]
    }
   ],
   "source": [
    "mixed_list = [True, False, 87, 8.7, '5566']\n",
    "for i in mixed_list:\n",
    "    print(type(i))"
   ]
  },
  {
   "cell_type": "code",
   "execution_count": 39,
   "metadata": {},
   "outputs": [
    {
     "name": "stdout",
     "output_type": "stream",
     "text": [
      "<class 'numpy.bool_'>\n",
      "<class 'numpy.bool_'>\n"
     ]
    }
   ],
   "source": [
    "mixed_arr = np.array([True, False])\n",
    "for i in mixed_arr:\n",
    "    print(type(i))"
   ]
  },
  {
   "cell_type": "code",
   "execution_count": 40,
   "metadata": {},
   "outputs": [
    {
     "name": "stdout",
     "output_type": "stream",
     "text": [
      "<class 'numpy.int32'>\n",
      "<class 'numpy.int32'>\n",
      "<class 'numpy.int32'>\n",
      "[ 1  0 87]\n"
     ]
    }
   ],
   "source": [
    "mixed_arr = np.array([True, False, 87])\n",
    "for i in mixed_arr:\n",
    "    print(type(i))\n",
    "print(mixed_arr)"
   ]
  },
  {
   "cell_type": "code",
   "execution_count": 41,
   "metadata": {},
   "outputs": [
    {
     "name": "stdout",
     "output_type": "stream",
     "text": [
      "<class 'numpy.float64'>\n",
      "<class 'numpy.float64'>\n",
      "<class 'numpy.float64'>\n",
      "<class 'numpy.float64'>\n",
      "[ 1.   0.  87.   8.7]\n"
     ]
    }
   ],
   "source": [
    "mixed_arr = np.array([True, False, 87, 8.7])\n",
    "for i in mixed_arr:\n",
    "    print(type(i))\n",
    "print(mixed_arr)"
   ]
  },
  {
   "cell_type": "code",
   "execution_count": 42,
   "metadata": {},
   "outputs": [
    {
     "name": "stdout",
     "output_type": "stream",
     "text": [
      "<class 'numpy.str_'>\n",
      "<class 'numpy.str_'>\n",
      "<class 'numpy.str_'>\n",
      "<class 'numpy.str_'>\n",
      "<class 'numpy.str_'>\n",
      "['True' 'False' '87' '8.7' 'Luke Skywalker']\n"
     ]
    }
   ],
   "source": [
    "mixed_arr = np.array([True, False, 87, 8.7, \"Luke Skywalker\"])\n",
    "for i in mixed_arr:\n",
    "    print(type(i))\n",
    "print(mixed_arr)"
   ]
  },
  {
   "cell_type": "code",
   "execution_count": 43,
   "metadata": {},
   "outputs": [
    {
     "name": "stdout",
     "output_type": "stream",
     "text": [
      "[[-4]]\n"
     ]
    }
   ],
   "source": [
    "# ndarray 的練習1\n",
    "'''\n",
    "轉置 u 後再去與 v 做運算\n",
    "'''\n",
    "\n",
    "u = np.array([[4],[-4],[-3]])\n",
    "v = np.array([[4], [2], [4]])\n",
    "print(u.T.dot(v))"
   ]
  },
  {
   "cell_type": "code",
   "execution_count": 44,
   "metadata": {},
   "outputs": [
    {
     "name": "stdout",
     "output_type": "stream",
     "text": [
      "[[1. 2. 3.]\n",
      " [4. 5. 6.]\n",
      " [7. 8. 9.]]\n",
      "[[1. 2. 3.]\n",
      " [4. 5. 6.]\n",
      " [7. 8. 9.]]\n"
     ]
    }
   ],
   "source": [
    "# ndarray 的練習2\n",
    "'''\n",
    "練習計算 AI 與 IA\n",
    "\n",
    "'''\n",
    "A = np.arange(1, 10).reshape(3, 3)\n",
    "print(A.dot(np.eye(3)))\n",
    "print(np.eye(3).dot(A))"
   ]
  },
  {
   "cell_type": "code",
   "execution_count": 45,
   "metadata": {},
   "outputs": [
    {
     "name": "stdout",
     "output_type": "stream",
     "text": [
      "[[ 8  5]\n",
      " [26 17]]\n",
      "[[16 23]\n",
      " [ 6  9]]\n"
     ]
    }
   ],
   "source": [
    "# ndarray 的練習3\n",
    "'''\n",
    "練習計算 AB 與 BA\n",
    "A = np.array([\n",
    "    [1,2],\n",
    "    [4,5]\n",
    "])\n",
    "B = np.array([\n",
    "    [4,3],\n",
    "    [2,1]\n",
    "])\n",
    "'''\n",
    "A = np.array([1, 2 ,4 ,5]).reshape(2, 2)\n",
    "B = np.arange(4, 0, -1).reshape(2, 2)\n",
    "print(A.dot(B))\n",
    "print(B.dot(A))"
   ]
  },
  {
   "cell_type": "markdown",
   "metadata": {},
   "source": [
    "## 常用屬性與方法\n",
    "- 元素個數：`.size`\n",
    "- 外觀：`.shape`\n",
    "- 維度：`.ndim`\n",
    "- 變形：`.reshape(m, n)`\n",
    "- 轉置：`.T`\n",
    "- 攤平：`.ravel()`\n",
    "- 依條件取代：`.where()`\n",
    "- 相乘：`.prod()`\n",
    "- 加總：`.sum()`\n",
    "- 平均：`.mean()`"
   ]
  },
  {
   "cell_type": "code",
   "execution_count": 46,
   "metadata": {},
   "outputs": [
    {
     "name": "stdout",
     "output_type": "stream",
     "text": [
      "[[ 0  1  2  3  4]\n",
      " [ 5  6  7  8  9]\n",
      " [10 11 12 13 14]\n",
      " [15 16 17 18 19]]\n"
     ]
    }
   ],
   "source": [
    "my_arr = np.arange(20).reshape(4, 5)\n",
    "print(my_arr)"
   ]
  },
  {
   "cell_type": "code",
   "execution_count": 47,
   "metadata": {},
   "outputs": [
    {
     "data": {
      "text/plain": [
       "array([ 0,  1,  2,  3,  4,  5,  6,  7,  8,  9, 10, 11, 12, 13, 14, 15, 16,\n",
       "       17, 18, 19])"
      ]
     },
     "execution_count": 47,
     "metadata": {},
     "output_type": "execute_result"
    }
   ],
   "source": [
    "my_arr.ravel()"
   ]
  },
  {
   "cell_type": "code",
   "execution_count": 48,
   "metadata": {},
   "outputs": [
    {
     "data": {
      "text/plain": [
       "20"
      ]
     },
     "execution_count": 48,
     "metadata": {},
     "output_type": "execute_result"
    }
   ],
   "source": [
    "my_arr.size"
   ]
  },
  {
   "cell_type": "code",
   "execution_count": 49,
   "metadata": {},
   "outputs": [
    {
     "data": {
      "text/plain": [
       "(4, 5)"
      ]
     },
     "execution_count": 49,
     "metadata": {},
     "output_type": "execute_result"
    }
   ],
   "source": [
    "my_arr.shape"
   ]
  },
  {
   "cell_type": "code",
   "execution_count": 50,
   "metadata": {},
   "outputs": [
    {
     "data": {
      "text/plain": [
       "array([[ 0,  5, 10, 15],\n",
       "       [ 1,  6, 11, 16],\n",
       "       [ 2,  7, 12, 17],\n",
       "       [ 3,  8, 13, 18],\n",
       "       [ 4,  9, 14, 19]])"
      ]
     },
     "execution_count": 50,
     "metadata": {},
     "output_type": "execute_result"
    }
   ],
   "source": [
    "my_arr.T"
   ]
  },
  {
   "cell_type": "code",
   "execution_count": 51,
   "metadata": {},
   "outputs": [
    {
     "data": {
      "text/plain": [
       "array([[  0,   1,   2,   3,   4],\n",
       "       [  5,   6,   7,   8,   9],\n",
       "       [999, 999, 999, 999, 999],\n",
       "       [999, 999, 999, 999, 999]])"
      ]
     },
     "execution_count": 51,
     "metadata": {},
     "output_type": "execute_result"
    }
   ],
   "source": [
    "np.where(my_arr >= 10, 999, my_arr)"
   ]
  },
  {
   "cell_type": "code",
   "execution_count": 52,
   "metadata": {},
   "outputs": [
    {
     "data": {
      "text/plain": [
       "array([[ 0,  1,  2,  3,  4],\n",
       "       [ 5,  6,  7,  8,  9],\n",
       "       [10, 11, 12, 13, 14],\n",
       "       [15, 16, 17, 18, 19]])"
      ]
     },
     "execution_count": 52,
     "metadata": {},
     "output_type": "execute_result"
    }
   ],
   "source": [
    "my_arr"
   ]
  },
  {
   "cell_type": "code",
   "execution_count": 53,
   "metadata": {},
   "outputs": [
    {
     "data": {
      "text/plain": [
       "190"
      ]
     },
     "execution_count": 53,
     "metadata": {},
     "output_type": "execute_result"
    }
   ],
   "source": [
    "my_arr.sum()"
   ]
  },
  {
   "cell_type": "code",
   "execution_count": 54,
   "metadata": {},
   "outputs": [
    {
     "data": {
      "text/plain": [
       "array([30, 34, 38, 42, 46])"
      ]
     },
     "execution_count": 54,
     "metadata": {},
     "output_type": "execute_result"
    }
   ],
   "source": [
    "my_arr.sum(axis=0)"
   ]
  },
  {
   "cell_type": "code",
   "execution_count": 55,
   "metadata": {},
   "outputs": [
    {
     "data": {
      "text/plain": [
       "array([10, 35, 60, 85])"
      ]
     },
     "execution_count": 55,
     "metadata": {},
     "output_type": "execute_result"
    }
   ],
   "source": [
    "my_arr.sum(axis=1)"
   ]
  },
  {
   "cell_type": "code",
   "execution_count": 56,
   "metadata": {},
   "outputs": [
    {
     "data": {
      "text/plain": [
       "19"
      ]
     },
     "execution_count": 56,
     "metadata": {},
     "output_type": "execute_result"
    }
   ],
   "source": [
    "my_arr.max()"
   ]
  },
  {
   "cell_type": "code",
   "execution_count": 57,
   "metadata": {},
   "outputs": [
    {
     "data": {
      "text/plain": [
       "array([15, 16, 17, 18, 19])"
      ]
     },
     "execution_count": 57,
     "metadata": {},
     "output_type": "execute_result"
    }
   ],
   "source": [
    "my_arr.max(axis=0)"
   ]
  },
  {
   "cell_type": "code",
   "execution_count": 58,
   "metadata": {},
   "outputs": [
    {
     "data": {
      "text/plain": [
       "array([ 4,  9, 14, 19])"
      ]
     },
     "execution_count": 58,
     "metadata": {},
     "output_type": "execute_result"
    }
   ],
   "source": [
    "my_arr.max(axis=1)"
   ]
  },
  {
   "cell_type": "code",
   "execution_count": 59,
   "metadata": {},
   "outputs": [
    {
     "data": {
      "text/plain": [
       "array([ 4,  9, 14, 19])"
      ]
     },
     "execution_count": 59,
     "metadata": {},
     "output_type": "execute_result"
    }
   ],
   "source": [
    "my_arr[:, 4]"
   ]
  },
  {
   "cell_type": "code",
   "execution_count": 60,
   "metadata": {},
   "outputs": [
    {
     "data": {
      "text/plain": [
       "array([[ 1,  2,  4],\n",
       "       [ 6,  7,  9],\n",
       "       [11, 12, 14],\n",
       "       [16, 17, 19]])"
      ]
     },
     "execution_count": 60,
     "metadata": {},
     "output_type": "execute_result"
    }
   ],
   "source": [
    "my_arr[:, [1, 2, 4]]"
   ]
  },
  {
   "cell_type": "code",
   "execution_count": 61,
   "metadata": {},
   "outputs": [
    {
     "data": {
      "text/plain": [
       "array([[ 0,  1,  2,  3,  4],\n",
       "       [ 5,  6,  7,  8,  9],\n",
       "       [15, 16, 17, 18, 19]])"
      ]
     },
     "execution_count": 61,
     "metadata": {},
     "output_type": "execute_result"
    }
   ],
   "source": [
    "my_arr[[0, 1, 3], :]"
   ]
  },
  {
   "cell_type": "code",
   "execution_count": 62,
   "metadata": {},
   "outputs": [
    {
     "data": {
      "text/plain": [
       "array([ 0,  3,  6,  9, 12, 15, 18])"
      ]
     },
     "execution_count": 62,
     "metadata": {},
     "output_type": "execute_result"
    }
   ],
   "source": [
    "my_arr[my_arr % 3 == 0]"
   ]
  },
  {
   "cell_type": "code",
   "execution_count": null,
   "metadata": {},
   "outputs": [],
   "source": []
  },
  {
   "cell_type": "code",
   "execution_count": null,
   "metadata": {},
   "outputs": [],
   "source": []
  }
 ],
 "metadata": {
  "kernelspec": {
   "display_name": "Python 3",
   "language": "python",
   "name": "python3"
  },
  "language_info": {
   "codemirror_mode": {
    "name": "ipython",
    "version": 3
   },
   "file_extension": ".py",
   "mimetype": "text/x-python",
   "name": "python",
   "nbconvert_exporter": "python",
   "pygments_lexer": "ipython3",
   "version": "3.7.3"
  }
 },
 "nbformat": 4,
 "nbformat_minor": 2
}
